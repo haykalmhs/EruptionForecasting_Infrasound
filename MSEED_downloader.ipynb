{
 "cells": [
  {
   "cell_type": "code",
   "execution_count": 1,
   "metadata": {},
   "outputs": [],
   "source": [
    "from obspy import UTCDateTime\n",
    "\n",
    "from obspy.clients.fdsn.mass_downloader import Restrictions\n",
    "\n",
    "restrict = Restrictions(\n",
    "\n",
    "    starttime=UTCDateTime(2018, 3, 11),\n",
    "\n",
    "    endtime=UTCDateTime(2020, 6, 21),\n",
    "\n",
    "    network=\"IM\", station=\"I04H1\", location=\"*\", channel= \"BDF\",\n",
    "\n",
    "    reject_channels_with_gaps=True,\n",
    "\n",
    "    minimum_length=0.9,\n",
    "\n",
    "    minimum_interstation_distance_in_m=1000,\n",
    "\n",
    ")\n"
   ]
  },
  {
   "cell_type": "code",
   "execution_count": null,
   "metadata": {},
   "outputs": [],
   "source": [
    "mseed_storage = (\"data/{network}/{station}/\"\n",
    "\n",
    "                 \"{channel}.{starttime}.{endtime}.mseed\")\n"
   ]
  }
 ],
 "metadata": {
  "kernelspec": {
   "display_name": "obspy",
   "language": "python",
   "name": "python3"
  },
  "language_info": {
   "codemirror_mode": {
    "name": "ipython",
    "version": 3
   },
   "file_extension": ".py",
   "mimetype": "text/x-python",
   "name": "python",
   "nbconvert_exporter": "python",
   "pygments_lexer": "ipython3",
   "version": "3.10.9"
  },
  "orig_nbformat": 4
 },
 "nbformat": 4,
 "nbformat_minor": 2
}
