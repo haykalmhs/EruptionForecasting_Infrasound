{
 "cells": [
  {
   "attachments": {},
   "cell_type": "markdown",
   "metadata": {},
   "source": [
    "# Designing an Infrasound-based Early Warning System for Merapi Volcano\n",
    "\n",
    "### Introduction\n",
    "\n",
    "Volcanic eruptions have killed more than 300,000 people worldwide since the 16th century, with Southeast Asia accounting for more than half of this total (Brown et al., 2017). Merapi Volcano (2968 m asl) is an active stratovolcano, that is located in the Sleman regency, Yogyakarta Special Territory. Currently there are about 1.1 million people living on the active Merapi volano’s slopes, 444,000 of which are in regions where there is a high danger of topological floods, surges and lahars (Thouret et al., 2000).The Aim of this project is to: \n",
    "- To develop a machine learning model that can timely predict the likelihood of a volcanic eruption at Mount Merapi based on infrasound data.\n",
    "- To evaluate the performance of the model on a test dataset and compare it to existing methods for predicting volcanic eruptions "
   ]
  },
  {
   "cell_type": "code",
   "execution_count": 2,
   "metadata": {},
   "outputs": [],
   "source": [
    "%matplotlib inline\n",
    "import matplotlib.pyplot as plt\n",
    "from obspy import UTCDateTime\n",
    "from obspy.clients.fdsn import Client\n",
    "\n",
    "plt.style.use('ggplot')\n",
    "plt.rcParams['figure.figsize'] = 12, 8"
   ]
  },
  {
   "attachments": {},
   "cell_type": "markdown",
   "metadata": {},
   "source": [
    "### Data Ingestion\n",
    "\n",
    "We will gather Infrasound signals from Mount Merapi through from I06AU, I04AU, I52GB, I07AU, I39PW International Monitoring System (IMS) Infrasound Arrays through IRIS Data Services. The starttime and enddtime can be seen in the table below:\n",
    "\n",
    "| No | Network | Station |  Latitude  |  Longitude | Elevation |                          Sitename                         |      Start Time     |       End Time      |\n",
    "|:--:|:-------:|:-------:|:----------:|:----------:|:---------:|:---------------------------------------------------------:|:-------------------:|:-------------------:|\n",
    "|  1 |    IM   |  I06H1  |  -12.14645 |  96.82032  |    16.8   |     Cocos Islands Infrasound Array, Site H1, Australia    | 2011-10-31T00:00:00 | 2599-12-31T23:59:59 |\n",
    "|  2 |    IM   |  I06H2  |  -12.14752 |  96.81855  |    17.6   |     Cocos Islands Infrasound Array, Site H2, Australia    | 2011-10-31T00:00:00 | 2599-12-31T23:59:59 |\n",
    "|  3 |    IM   |  I06H3  |  -12.14509 |  96.817741 |    20.8   |     Cocos Islands Infrasound Array, Site H3, Australia    | 2011-10-31T00:00:00 | 2599-12-31T23:59:59 |\n",
    "|  4 |    IM   |  I06H4  |  -12.14354 |  96.818489 |    16.0   |     Cocos Islands Infrasound Array, Site H4, Australia    | 2011-10-31T00:00:00 | 2599-12-31T23:59:59 |\n",
    "|  5 |    IM   |  I06H5  |  -12.1447  |  96.820847 |    19.3   |     Cocos Islands Infrasound Array, Site H5, Australia    | 2011-10-31T00:00:00 | 2599-12-31T23:59:59 |\n",
    "|  6 |    IM   |  I06H6  |  -12.14585 |  96.82428  |    29.2   |     Cocos Islands Infrasound Array, Site H6, Australia    | 2011-10-31T00:00:00 | 2599-12-31T23:59:59 |\n",
    "|  8 |    IM   |  I06H7  |  -12.15422 |  96.826881 |    14.0   |     Cocos Islands Infrasound Array, Site H7, Australia    | 2011-10-31T00:00:00 | 2599-12-31T23:59:59 |\n",
    "|  9 |    IM   |  I06H8  |  -12.15724 |  96.821693 |    11.9   |     Cocos Islands Infrasound Array, Site H8, Australia    | 2011-10-31T00:00:00 | 2599-12-31T23:59:59 |\n",
    "| 10 |    IM   |  I04H1  |  -34.59761 | 116.356689 |   167.1   |       Narrogin Infrasound Array, Site H1, Australia       | 2006-02-01T00:00:00 | 2599-12-31T23:59:59 |\n",
    "| 11 |    IM   |  I04H2  | -34.596169 | 116.367142 |   155.7   |       Narrogin Infrasound Array, Site H2, Australia       | 2006-02-01T00:00:00 | 2599-12-31T23:59:59 |\n",
    "| 12 |    IM   |  I04H3  | -34.607571 | 116.351547 |   123.2   |       Narrogin Infrasound Array, Site H3, Australia       | 2006-02-01T00:00:00 | 2599-12-31T23:59:59 |\n",
    "| 13 |    IM   |  I04H4  | -34.594002 | 116.344582 |   154.7   |       Narrogin Infrasound Array, Site H4, Australia       | 2006-02-01T00:00:00 | 2599-12-31T23:59:59 |\n",
    "| 14 |    IM   |  I04H5  | -34.594711 | 116.341087 |   147.7   |       Narrogin Infrasound Array, Site H5, Australia       | 2006-02-01T00:00:00 | 2599-12-31T23:59:59 |\n",
    "| 15 |    IM   |  I04H6  | -34.593121 | 116.341042 |   146.8   |       Narrogin Infrasound Array, Site H6, Australia       | 2006-02-01T00:00:00 | 2599-12-31T23:59:59 |\n",
    "| 16 |    IM   |  I04H7  | -34.591122 | 116.343163 |   143.2   |       Narrogin Infrasound Array, Site H7, Australia       | 2006-02-01T00:00:00 | 2599-12-31T23:59:59 |\n",
    "| 17 |    IM   |  I04H8  | -34.592918 |  116.34639 |   148.7   |       Narrogin Infrasound Array, Site H8, Australia       | 2006-02-01T00:00:00 | 2599-12-31T23:59:59 |\n",
    "| 18 |    IM   |  I52H1  |  -7.37779  |  72.484169 |    2.3    |   Diego Garcia infrasound array site H1, United Kingdom   | 2002-12-18T00:00:00 | 2599-12-31T23:59:59 |\n",
    "| 19 |    IM   |  I52H2  |  -7.37058  |  72.482361 |   1000.0  | Diego Garcia Infrasonic Array, Site I52H2, United Kingdom | 2003-06-24T00:00:00 | 2599-12-31T23:59:59 |\n",
    "| 20 |    IM   |  I52H3  |  -7.37962  |  72.490784 |   1000.0  | Diego Garcia Infrasonic Array, Site I52H3, United Kingdom | 2003-06-24T00:00:00 | 2599-12-31T23:59:59 |\n",
    "| 21 |    IM   |  I52H4  |   -7.3871  |  72.478127 |   1000.0  | Diego Garcia Infrasonic Array, Site I52H4, United Kingdom | 2003-06-24T00:00:00 | 2599-12-31T23:59:59 |\n",
    "| 22 |    IM   |  I52H5  |  -7.37559  |  72.483948 |    2.28   |   Diego Garcia infrasound array site H5, United Kingdom   | 2002-12-18T00:00:00 | 2599-12-31T23:59:59 |\n",
    "| 23 |    IM   |  I52H6  |  -7.37593  |  72.485573 |   1000.0  | Diego Garcia Infrasonic Array, Site I52H6, United Kingdom | 2003-06-24T00:00:00 | 2599-12-31T23:59:59 |\n",
    "| 24 |    IM   |  I52H7  |  -7.37865  |  72.485626 |   1000.0  | Diego Garcia Infrasonic Array, Site I52H7, United Kingdom | 2003-06-24T00:00:00 | 2599-12-31T23:59:59 |\n",
    "| 25 |    IM   |  I07H1  | -19.934851 | 134.329544 |   385.5   |     Warramunga Infrasonic Array, Site I07H1, Australia    | 2000-05-12T00:00:00 | 2599-12-31T23:59:59 |\n",
    "| 26 |    IM   |  I07H2  | -19.933411 | 134.330933 |   387.6   |     Warramunga Infrasonic Array, Site I07H2, Australia    | 2000-05-12T00:00:00 | 2599-12-31T23:59:59 |\n",
    "| 27 |    IM   |  I07H3  |  -19.93659 | 134.330734 |   392.0   |     Warramunga Infrasonic Array, Site I07H3, Australia    | 2000-05-12T00:00:00 | 2599-12-31T23:59:59 |\n",
    "| 28 |    IM   |  I07H4  |  -19.93502 | 134.327698 |   383.0   |     Warramunga Infrasonic Array, Site I07H4, Australia    | 2000-05-12T00:00:00 | 2599-12-31T23:59:59 |\n",
    "| 29 |    IM   |  I07H5  | -19.924549 |  134.32579 |   387.3   |     Warramunga Infrasonic Array, Site I07H5, Australia    | 2013-05-23T00:00:00 | 2599-12-31T23:59:59 |\n",
    "| 30 |    IM   |  I07H6  | -19.932699 | 134.338852 |   387.5   |     Warramunga Infrasonic Array, Site I07H6, Australia    | 2013-05-23T00:00:00 | 2599-12-31T23:59:59 |\n",
    "| 31 |    IM   |  I07H7  |  -19.94022 |  134.33963 |   387.7   |     Warramunga Infrasonic Array, Site I07H7, Australia    | 2013-05-23T00:00:00 | 2599-12-31T23:59:59 |\n",
    "| 32 |    IM   |  I07H8  | -19.943291 | 134.322906 |   388.4   |     Warramunga Infrasonic Array, Site I07H8, Australia    | 2013-05-23T00:00:00 | 2599-12-31T23:59:59 |"
   ]
  },
  {
   "attachments": {},
   "cell_type": "markdown",
   "metadata": {},
   "source": [
    "#### Data Window\n",
    "\n",
    "Data window will be determine the data gathered by the range of two months before and after the start of the eruption. We will use VOTW Webservices to gather these dates "
   ]
  },
  {
   "cell_type": "code",
   "execution_count": 31,
   "metadata": {},
   "outputs": [
    {
     "name": "stdout",
     "output_type": "stream",
     "text": [
      "<class 'pandas.core.frame.DataFrame'>\n"
     ]
    },
    {
     "data": {
      "text/html": [
       "<div>\n",
       "<style scoped>\n",
       "    .dataframe tbody tr th:only-of-type {\n",
       "        vertical-align: middle;\n",
       "    }\n",
       "\n",
       "    .dataframe tbody tr th {\n",
       "        vertical-align: top;\n",
       "    }\n",
       "\n",
       "    .dataframe thead th {\n",
       "        text-align: right;\n",
       "    }\n",
       "</style>\n",
       "<table border=\"1\" class=\"dataframe\">\n",
       "  <thead>\n",
       "    <tr style=\"text-align: right;\">\n",
       "      <th></th>\n",
       "      <th>VolcanoNumber</th>\n",
       "      <th>VolcanoName</th>\n",
       "      <th>ExplosivityIndexMax</th>\n",
       "      <th>StartDate</th>\n",
       "      <th>StartDateYear</th>\n",
       "      <th>StartDateMonth</th>\n",
       "      <th>StartDateDay</th>\n",
       "      <th>EndDate</th>\n",
       "      <th>EndDateYear</th>\n",
       "      <th>EndDateMonth</th>\n",
       "      <th>EndDateDay</th>\n",
       "      <th>ContinuingEruption</th>\n",
       "    </tr>\n",
       "    <tr>\n",
       "      <th>Activity_ID</th>\n",
       "      <th></th>\n",
       "      <th></th>\n",
       "      <th></th>\n",
       "      <th></th>\n",
       "      <th></th>\n",
       "      <th></th>\n",
       "      <th></th>\n",
       "      <th></th>\n",
       "      <th></th>\n",
       "      <th></th>\n",
       "      <th></th>\n",
       "      <th></th>\n",
       "    </tr>\n",
       "  </thead>\n",
       "  <tbody>\n",
       "    <tr>\n",
       "      <th>22264</th>\n",
       "      <td>263250</td>\n",
       "      <td>Merapi</td>\n",
       "      <td>3</td>\n",
       "      <td>20180511.0</td>\n",
       "      <td>2018</td>\n",
       "      <td>5.0</td>\n",
       "      <td>11.0</td>\n",
       "      <td>20200621.0</td>\n",
       "      <td>2020.0</td>\n",
       "      <td>6.0</td>\n",
       "      <td>21.0</td>\n",
       "      <td>False</td>\n",
       "    </tr>\n",
       "    <tr>\n",
       "      <th>20842</th>\n",
       "      <td>263250</td>\n",
       "      <td>Merapi</td>\n",
       "      <td>2</td>\n",
       "      <td>20131118.0</td>\n",
       "      <td>2013</td>\n",
       "      <td>11.0</td>\n",
       "      <td>18.0</td>\n",
       "      <td>20131118.0</td>\n",
       "      <td>2013.0</td>\n",
       "      <td>11.0</td>\n",
       "      <td>18.0</td>\n",
       "      <td>False</td>\n",
       "    </tr>\n",
       "    <tr>\n",
       "      <th>20892</th>\n",
       "      <td>263250</td>\n",
       "      <td>Merapi</td>\n",
       "      <td>3</td>\n",
       "      <td>20140309.0</td>\n",
       "      <td>2014</td>\n",
       "      <td>3.0</td>\n",
       "      <td>9.0</td>\n",
       "      <td>20140420.0</td>\n",
       "      <td>2014.0</td>\n",
       "      <td>4.0</td>\n",
       "      <td>20.0</td>\n",
       "      <td>False</td>\n",
       "    </tr>\n",
       "    <tr>\n",
       "      <th>22381</th>\n",
       "      <td>263250</td>\n",
       "      <td>Merapi</td>\n",
       "      <td>1</td>\n",
       "      <td>20201231.0</td>\n",
       "      <td>2020</td>\n",
       "      <td>12.0</td>\n",
       "      <td>31.0</td>\n",
       "      <td>20230224.0</td>\n",
       "      <td>2023.0</td>\n",
       "      <td>2.0</td>\n",
       "      <td>24.0</td>\n",
       "      <td>True</td>\n",
       "    </tr>\n",
       "    <tr>\n",
       "      <th>22476</th>\n",
       "      <td>263250</td>\n",
       "      <td>Merapi</td>\n",
       "      <td>1</td>\n",
       "      <td>20130722.0</td>\n",
       "      <td>2013</td>\n",
       "      <td>7.0</td>\n",
       "      <td>22.0</td>\n",
       "      <td>20130722.0</td>\n",
       "      <td>2013.0</td>\n",
       "      <td>7.0</td>\n",
       "      <td>22.0</td>\n",
       "      <td>False</td>\n",
       "    </tr>\n",
       "  </tbody>\n",
       "</table>\n",
       "</div>"
      ],
      "text/plain": [
       "             VolcanoNumber VolcanoName  ExplosivityIndexMax   StartDate  \\\n",
       "Activity_ID                                                               \n",
       "22264               263250      Merapi                    3  20180511.0   \n",
       "20842               263250      Merapi                    2  20131118.0   \n",
       "20892               263250      Merapi                    3  20140309.0   \n",
       "22381               263250      Merapi                    1  20201231.0   \n",
       "22476               263250      Merapi                    1  20130722.0   \n",
       "\n",
       "             StartDateYear  StartDateMonth  StartDateDay     EndDate  \\\n",
       "Activity_ID                                                            \n",
       "22264                 2018             5.0          11.0  20200621.0   \n",
       "20842                 2013            11.0          18.0  20131118.0   \n",
       "20892                 2014             3.0           9.0  20140420.0   \n",
       "22381                 2020            12.0          31.0  20230224.0   \n",
       "22476                 2013             7.0          22.0  20130722.0   \n",
       "\n",
       "             EndDateYear  EndDateMonth  EndDateDay  ContinuingEruption  \n",
       "Activity_ID                                                             \n",
       "22264             2020.0           6.0        21.0               False  \n",
       "20842             2013.0          11.0        18.0               False  \n",
       "20892             2014.0           4.0        20.0               False  \n",
       "22381             2023.0           2.0        24.0                True  \n",
       "22476             2013.0           7.0        22.0               False  "
      ]
     },
     "execution_count": 31,
     "metadata": {},
     "output_type": "execute_result"
    }
   ],
   "source": [
    "import pandas as pd\n",
    "import geopandas as gpd\n",
    "import pytz\n",
    "\n",
    "# Load csv results from server into a Pandas DataFrame\n",
    "server = 'https://webservices.volcano.si.edu/geoserver/GVP-VOTW/wms?'\n",
    "query = 'service=WFS&version=2.0.0&request=GetFeature&typeName=GVP-VOTW:E3WebApp_Eruptions1960&outputFormat=csv'\n",
    "df = pd.read_csv(server+query)\n",
    "\n",
    "# drop function which is used in removing or deleting rows or columns from the CSV files\n",
    "df = df.set_index('Activity_ID')\n",
    "df = df.drop(columns=['FID', 'LatitudeDecimal', 'LongitudeDecimal', 'GeoLocation'])\n",
    "\n",
    "# Query a column for a value of interest\n",
    "df = df.query('VolcanoNumber == 263250')\n",
    "df = df.query('StartDateYear > 2010')\n",
    "\n",
    "print(type(df))\n",
    "df.head()"
   ]
  },
  {
   "cell_type": "code",
   "execution_count": 44,
   "metadata": {},
   "outputs": [
    {
     "name": "stdout",
     "output_type": "stream",
     "text": [
      "<class 'pandas.core.frame.DataFrame'>\n",
      "Int64Index: 6 entries, 22264 to 22488\n",
      "Data columns (total 12 columns):\n",
      " #   Column               Non-Null Count  Dtype  \n",
      "---  ------               --------------  -----  \n",
      " 0   VolcanoNumber        6 non-null      int64  \n",
      " 1   VolcanoName          6 non-null      object \n",
      " 2   ExplosivityIndexMax  6 non-null      int64  \n",
      " 3   StartDate            6 non-null      float64\n",
      " 4   StartDateYear        6 non-null      int64  \n",
      " 5   StartDateMonth       6 non-null      float64\n",
      " 6   StartDateDay         6 non-null      float64\n",
      " 7   EndDate              6 non-null      float64\n",
      " 8   EndDateYear          6 non-null      float64\n",
      " 9   EndDateMonth         6 non-null      float64\n",
      " 10  EndDateDay           6 non-null      float64\n",
      " 11  ContinuingEruption   6 non-null      bool   \n",
      "dtypes: bool(1), float64(7), int64(3), object(1)\n",
      "memory usage: 582.0+ bytes\n"
     ]
    }
   ],
   "source": [
    "df.info()"
   ]
  },
  {
   "cell_type": "code",
   "execution_count": 46,
   "metadata": {},
   "outputs": [
    {
     "name": "stdout",
     "output_type": "stream",
     "text": [
      "2018-05-11 00:00:00 2020-06-21 00:00:00\n"
     ]
    }
   ],
   "source": [
    "\n",
    "\n",
    "# Define a function to convert start and end dates to UTC datetime format\n",
    "def convert_to_utc(date_str):\n",
    "    year = int(date_str[0:4])\n",
    "    month = int(date_str[4:6])\n",
    "    day = int(date_str[6:8])\n",
    "    date = datetime(year, month, day)\n",
    "    return date.strftime('%Y-%m-%d %H:%M:%S')\n",
    "\n",
    "# Example usage for the first row in the dataset\n",
    "start_date = '20180511.0'\n",
    "end_date = '20200621.0'\n",
    "start_date_utc = convert_to_utc(start_date)\n",
    "end_date_utc = convert_to_utc(end_date)\n",
    "print(start_date_utc, end_date_utc)"
   ]
  },
  {
   "cell_type": "code",
   "execution_count": 92,
   "metadata": {},
   "outputs": [
    {
     "ename": "ValueError",
     "evalue": "invalid literal for int() with base 10: '2018-05-11 00:00:00'",
     "output_type": "error",
     "traceback": [
      "\u001b[1;31m---------------------------------------------------------------------------\u001b[0m",
      "\u001b[1;31mValueError\u001b[0m                                Traceback (most recent call last)",
      "Cell \u001b[1;32mIn[92], line 14\u001b[0m\n\u001b[0;32m     11\u001b[0m     \u001b[39mreturn\u001b[39;00m date\u001b[39m.\u001b[39mstrftime(\u001b[39m'\u001b[39m\u001b[39m%\u001b[39m\u001b[39mY-\u001b[39m\u001b[39m%\u001b[39m\u001b[39mm-\u001b[39m\u001b[39m%d\u001b[39;00m\u001b[39m \u001b[39m\u001b[39m%\u001b[39m\u001b[39mH:\u001b[39m\u001b[39m%\u001b[39m\u001b[39mM:\u001b[39m\u001b[39m%\u001b[39m\u001b[39mS\u001b[39m\u001b[39m'\u001b[39m)\n\u001b[0;32m     13\u001b[0m \u001b[39m# Apply the function to the StartDate and EndDate columns in the DataFrame\u001b[39;00m\n\u001b[1;32m---> 14\u001b[0m df[\u001b[39m'\u001b[39m\u001b[39mStartDate\u001b[39m\u001b[39m'\u001b[39m] \u001b[39m=\u001b[39m df[\u001b[39m'\u001b[39;49m\u001b[39mStartDate\u001b[39;49m\u001b[39m'\u001b[39;49m]\u001b[39m.\u001b[39;49mapply(convert_to_utc)\n\u001b[0;32m     15\u001b[0m df[\u001b[39m'\u001b[39m\u001b[39mEndDate\u001b[39m\u001b[39m'\u001b[39m] \u001b[39m=\u001b[39m df[\u001b[39m'\u001b[39m\u001b[39mEndDate\u001b[39m\u001b[39m'\u001b[39m]\u001b[39m.\u001b[39mapply(convert_to_utc)\n",
      "File \u001b[1;32mc:\\Users\\mhayk\\anaconda3\\envs\\obspy\\lib\\site-packages\\pandas\\core\\series.py:4771\u001b[0m, in \u001b[0;36mSeries.apply\u001b[1;34m(self, func, convert_dtype, args, **kwargs)\u001b[0m\n\u001b[0;32m   4661\u001b[0m \u001b[39mdef\u001b[39;00m \u001b[39mapply\u001b[39m(\n\u001b[0;32m   4662\u001b[0m     \u001b[39mself\u001b[39m,\n\u001b[0;32m   4663\u001b[0m     func: AggFuncType,\n\u001b[1;32m   (...)\u001b[0m\n\u001b[0;32m   4666\u001b[0m     \u001b[39m*\u001b[39m\u001b[39m*\u001b[39mkwargs,\n\u001b[0;32m   4667\u001b[0m ) \u001b[39m-\u001b[39m\u001b[39m>\u001b[39m DataFrame \u001b[39m|\u001b[39m Series:\n\u001b[0;32m   4668\u001b[0m \u001b[39m    \u001b[39m\u001b[39m\"\"\"\u001b[39;00m\n\u001b[0;32m   4669\u001b[0m \u001b[39m    Invoke function on values of Series.\u001b[39;00m\n\u001b[0;32m   4670\u001b[0m \n\u001b[1;32m   (...)\u001b[0m\n\u001b[0;32m   4769\u001b[0m \u001b[39m    dtype: float64\u001b[39;00m\n\u001b[0;32m   4770\u001b[0m \u001b[39m    \"\"\"\u001b[39;00m\n\u001b[1;32m-> 4771\u001b[0m     \u001b[39mreturn\u001b[39;00m SeriesApply(\u001b[39mself\u001b[39;49m, func, convert_dtype, args, kwargs)\u001b[39m.\u001b[39;49mapply()\n",
      "File \u001b[1;32mc:\\Users\\mhayk\\anaconda3\\envs\\obspy\\lib\\site-packages\\pandas\\core\\apply.py:1105\u001b[0m, in \u001b[0;36mSeriesApply.apply\u001b[1;34m(self)\u001b[0m\n\u001b[0;32m   1102\u001b[0m     \u001b[39mreturn\u001b[39;00m \u001b[39mself\u001b[39m\u001b[39m.\u001b[39mapply_str()\n\u001b[0;32m   1104\u001b[0m \u001b[39m# self.f is Callable\u001b[39;00m\n\u001b[1;32m-> 1105\u001b[0m \u001b[39mreturn\u001b[39;00m \u001b[39mself\u001b[39;49m\u001b[39m.\u001b[39;49mapply_standard()\n",
      "File \u001b[1;32mc:\\Users\\mhayk\\anaconda3\\envs\\obspy\\lib\\site-packages\\pandas\\core\\apply.py:1156\u001b[0m, in \u001b[0;36mSeriesApply.apply_standard\u001b[1;34m(self)\u001b[0m\n\u001b[0;32m   1154\u001b[0m     \u001b[39melse\u001b[39;00m:\n\u001b[0;32m   1155\u001b[0m         values \u001b[39m=\u001b[39m obj\u001b[39m.\u001b[39mastype(\u001b[39mobject\u001b[39m)\u001b[39m.\u001b[39m_values\n\u001b[1;32m-> 1156\u001b[0m         mapped \u001b[39m=\u001b[39m lib\u001b[39m.\u001b[39;49mmap_infer(\n\u001b[0;32m   1157\u001b[0m             values,\n\u001b[0;32m   1158\u001b[0m             f,\n\u001b[0;32m   1159\u001b[0m             convert\u001b[39m=\u001b[39;49m\u001b[39mself\u001b[39;49m\u001b[39m.\u001b[39;49mconvert_dtype,\n\u001b[0;32m   1160\u001b[0m         )\n\u001b[0;32m   1162\u001b[0m \u001b[39mif\u001b[39;00m \u001b[39mlen\u001b[39m(mapped) \u001b[39mand\u001b[39;00m \u001b[39misinstance\u001b[39m(mapped[\u001b[39m0\u001b[39m], ABCSeries):\n\u001b[0;32m   1163\u001b[0m     \u001b[39m# GH#43986 Need to do list(mapped) in order to get treated as nested\u001b[39;00m\n\u001b[0;32m   1164\u001b[0m     \u001b[39m#  See also GH#25959 regarding EA support\u001b[39;00m\n\u001b[0;32m   1165\u001b[0m     \u001b[39mreturn\u001b[39;00m obj\u001b[39m.\u001b[39m_constructor_expanddim(\u001b[39mlist\u001b[39m(mapped), index\u001b[39m=\u001b[39mobj\u001b[39m.\u001b[39mindex)\n",
      "File \u001b[1;32mc:\\Users\\mhayk\\anaconda3\\envs\\obspy\\lib\\site-packages\\pandas\\_libs\\lib.pyx:2918\u001b[0m, in \u001b[0;36mpandas._libs.lib.map_infer\u001b[1;34m()\u001b[0m\n",
      "Cell \u001b[1;32mIn[92], line 6\u001b[0m, in \u001b[0;36mconvert_to_utc\u001b[1;34m(date_float)\u001b[0m\n\u001b[0;32m      5\u001b[0m \u001b[39mdef\u001b[39;00m \u001b[39mconvert_to_utc\u001b[39m(date_float):\n\u001b[1;32m----> 6\u001b[0m     date_str \u001b[39m=\u001b[39m \u001b[39mstr\u001b[39m(\u001b[39mint\u001b[39;49m(date_float))\n\u001b[0;32m      7\u001b[0m     year \u001b[39m=\u001b[39m \u001b[39mint\u001b[39m(date_str[\u001b[39m0\u001b[39m:\u001b[39m4\u001b[39m])\n\u001b[0;32m      8\u001b[0m     month \u001b[39m=\u001b[39m \u001b[39mint\u001b[39m(date_str[\u001b[39m4\u001b[39m:\u001b[39m6\u001b[39m])\n",
      "\u001b[1;31mValueError\u001b[0m: invalid literal for int() with base 10: '2018-05-11 00:00:00'"
     ]
    }
   ],
   "source": [
    "import pandas as pd\n",
    "from datetime import datetime\n",
    "\n",
    "# Define a function to convert start and end dates to UTC datetime format\n",
    "def convert_to_utc(date_float):\n",
    "    date_str = str(int(date_float))\n",
    "    year = int(date_str[0:4])\n",
    "    month = int(date_str[4:6])\n",
    "    day = int(date_str[6:8])\n",
    "    date = datetime(year, month, day)\n",
    "    return date.strftime('%Y-%m-%d %H:%M:%S')\n",
    "\n",
    "# Apply the function to the StartDate and EndDate columns in the DataFrame\n",
    "df['StartDate'] = df['StartDate'].apply(convert_to_utc)\n",
    "df['EndDate'] = df['EndDate'].apply(convert_to_utc)"
   ]
  },
  {
   "cell_type": "code",
   "execution_count": 51,
   "metadata": {},
   "outputs": [
    {
     "data": {
      "text/html": [
       "<div>\n",
       "<style scoped>\n",
       "    .dataframe tbody tr th:only-of-type {\n",
       "        vertical-align: middle;\n",
       "    }\n",
       "\n",
       "    .dataframe tbody tr th {\n",
       "        vertical-align: top;\n",
       "    }\n",
       "\n",
       "    .dataframe thead th {\n",
       "        text-align: right;\n",
       "    }\n",
       "</style>\n",
       "<table border=\"1\" class=\"dataframe\">\n",
       "  <thead>\n",
       "    <tr style=\"text-align: right;\">\n",
       "      <th></th>\n",
       "      <th>VolcanoNumber</th>\n",
       "      <th>VolcanoName</th>\n",
       "      <th>ExplosivityIndexMax</th>\n",
       "      <th>StartDate</th>\n",
       "      <th>StartDateYear</th>\n",
       "      <th>StartDateMonth</th>\n",
       "      <th>StartDateDay</th>\n",
       "      <th>EndDate</th>\n",
       "      <th>EndDateYear</th>\n",
       "      <th>EndDateMonth</th>\n",
       "      <th>EndDateDay</th>\n",
       "      <th>ContinuingEruption</th>\n",
       "    </tr>\n",
       "    <tr>\n",
       "      <th>Activity_ID</th>\n",
       "      <th></th>\n",
       "      <th></th>\n",
       "      <th></th>\n",
       "      <th></th>\n",
       "      <th></th>\n",
       "      <th></th>\n",
       "      <th></th>\n",
       "      <th></th>\n",
       "      <th></th>\n",
       "      <th></th>\n",
       "      <th></th>\n",
       "      <th></th>\n",
       "    </tr>\n",
       "  </thead>\n",
       "  <tbody>\n",
       "    <tr>\n",
       "      <th>22264</th>\n",
       "      <td>263250</td>\n",
       "      <td>Merapi</td>\n",
       "      <td>3</td>\n",
       "      <td>2018-05-11 00:00:00</td>\n",
       "      <td>2018</td>\n",
       "      <td>5.0</td>\n",
       "      <td>11.0</td>\n",
       "      <td>2020-06-21 00:00:00</td>\n",
       "      <td>2020.0</td>\n",
       "      <td>6.0</td>\n",
       "      <td>21.0</td>\n",
       "      <td>False</td>\n",
       "    </tr>\n",
       "    <tr>\n",
       "      <th>20842</th>\n",
       "      <td>263250</td>\n",
       "      <td>Merapi</td>\n",
       "      <td>2</td>\n",
       "      <td>2013-11-18 00:00:00</td>\n",
       "      <td>2013</td>\n",
       "      <td>11.0</td>\n",
       "      <td>18.0</td>\n",
       "      <td>2013-11-18 00:00:00</td>\n",
       "      <td>2013.0</td>\n",
       "      <td>11.0</td>\n",
       "      <td>18.0</td>\n",
       "      <td>False</td>\n",
       "    </tr>\n",
       "    <tr>\n",
       "      <th>20892</th>\n",
       "      <td>263250</td>\n",
       "      <td>Merapi</td>\n",
       "      <td>3</td>\n",
       "      <td>2014-03-09 00:00:00</td>\n",
       "      <td>2014</td>\n",
       "      <td>3.0</td>\n",
       "      <td>9.0</td>\n",
       "      <td>2014-04-20 00:00:00</td>\n",
       "      <td>2014.0</td>\n",
       "      <td>4.0</td>\n",
       "      <td>20.0</td>\n",
       "      <td>False</td>\n",
       "    </tr>\n",
       "    <tr>\n",
       "      <th>22381</th>\n",
       "      <td>263250</td>\n",
       "      <td>Merapi</td>\n",
       "      <td>1</td>\n",
       "      <td>2020-12-31 00:00:00</td>\n",
       "      <td>2020</td>\n",
       "      <td>12.0</td>\n",
       "      <td>31.0</td>\n",
       "      <td>2023-02-24 00:00:00</td>\n",
       "      <td>2023.0</td>\n",
       "      <td>2.0</td>\n",
       "      <td>24.0</td>\n",
       "      <td>True</td>\n",
       "    </tr>\n",
       "    <tr>\n",
       "      <th>22476</th>\n",
       "      <td>263250</td>\n",
       "      <td>Merapi</td>\n",
       "      <td>1</td>\n",
       "      <td>2013-07-22 00:00:00</td>\n",
       "      <td>2013</td>\n",
       "      <td>7.0</td>\n",
       "      <td>22.0</td>\n",
       "      <td>2013-07-22 00:00:00</td>\n",
       "      <td>2013.0</td>\n",
       "      <td>7.0</td>\n",
       "      <td>22.0</td>\n",
       "      <td>False</td>\n",
       "    </tr>\n",
       "    <tr>\n",
       "      <th>22488</th>\n",
       "      <td>263250</td>\n",
       "      <td>Merapi</td>\n",
       "      <td>1</td>\n",
       "      <td>2011-03-25 00:00:00</td>\n",
       "      <td>2011</td>\n",
       "      <td>3.0</td>\n",
       "      <td>25.0</td>\n",
       "      <td>2011-09-08 00:00:00</td>\n",
       "      <td>2011.0</td>\n",
       "      <td>9.0</td>\n",
       "      <td>8.0</td>\n",
       "      <td>False</td>\n",
       "    </tr>\n",
       "  </tbody>\n",
       "</table>\n",
       "</div>"
      ],
      "text/plain": [
       "             VolcanoNumber VolcanoName  ExplosivityIndexMax  \\\n",
       "Activity_ID                                                   \n",
       "22264               263250      Merapi                    3   \n",
       "20842               263250      Merapi                    2   \n",
       "20892               263250      Merapi                    3   \n",
       "22381               263250      Merapi                    1   \n",
       "22476               263250      Merapi                    1   \n",
       "22488               263250      Merapi                    1   \n",
       "\n",
       "                       StartDate  StartDateYear  StartDateMonth  StartDateDay  \\\n",
       "Activity_ID                                                                     \n",
       "22264        2018-05-11 00:00:00           2018             5.0          11.0   \n",
       "20842        2013-11-18 00:00:00           2013            11.0          18.0   \n",
       "20892        2014-03-09 00:00:00           2014             3.0           9.0   \n",
       "22381        2020-12-31 00:00:00           2020            12.0          31.0   \n",
       "22476        2013-07-22 00:00:00           2013             7.0          22.0   \n",
       "22488        2011-03-25 00:00:00           2011             3.0          25.0   \n",
       "\n",
       "                         EndDate  EndDateYear  EndDateMonth  EndDateDay  \\\n",
       "Activity_ID                                                               \n",
       "22264        2020-06-21 00:00:00       2020.0           6.0        21.0   \n",
       "20842        2013-11-18 00:00:00       2013.0          11.0        18.0   \n",
       "20892        2014-04-20 00:00:00       2014.0           4.0        20.0   \n",
       "22381        2023-02-24 00:00:00       2023.0           2.0        24.0   \n",
       "22476        2013-07-22 00:00:00       2013.0           7.0        22.0   \n",
       "22488        2011-09-08 00:00:00       2011.0           9.0         8.0   \n",
       "\n",
       "             ContinuingEruption  \n",
       "Activity_ID                      \n",
       "22264                     False  \n",
       "20842                     False  \n",
       "20892                     False  \n",
       "22381                      True  \n",
       "22476                     False  \n",
       "22488                     False  "
      ]
     },
     "execution_count": 51,
     "metadata": {},
     "output_type": "execute_result"
    }
   ],
   "source": [
    "df"
   ]
  },
  {
   "cell_type": "code",
   "execution_count": 77,
   "metadata": {},
   "outputs": [
    {
     "data": {
      "text/plain": [
       "'2023-02-24 00:00:00'"
      ]
     },
     "execution_count": 77,
     "metadata": {},
     "output_type": "execute_result"
    }
   ],
   "source": [
    "df['EndDate'].max()"
   ]
  },
  {
   "cell_type": "code",
   "execution_count": 80,
   "metadata": {},
   "outputs": [
    {
     "data": {
      "text/plain": [
       "'2011-03-25 00:00:00'"
      ]
     },
     "execution_count": 80,
     "metadata": {},
     "output_type": "execute_result"
    }
   ],
   "source": [
    "df['StartDate'].min()"
   ]
  },
  {
   "cell_type": "code",
   "execution_count": 27,
   "metadata": {},
   "outputs": [
    {
     "ename": "KeyboardInterrupt",
     "evalue": "",
     "output_type": "error",
     "traceback": [
      "\u001b[1;31m---------------------------------------------------------------------------\u001b[0m",
      "\u001b[1;31mKeyboardInterrupt\u001b[0m                         Traceback (most recent call last)",
      "Cell \u001b[1;32mIn[27], line 15\u001b[0m\n\u001b[0;32m     10\u001b[0m bulk \u001b[39m=\u001b[39m [(\u001b[39m\"\u001b[39m\u001b[39mIM\u001b[39m\u001b[39m\"\u001b[39m, \u001b[39m\"\u001b[39m\u001b[39mI06H1\u001b[39m\u001b[39m\"\u001b[39m, \u001b[39m\"\u001b[39m\u001b[39m*\u001b[39m\u001b[39m\"\u001b[39m, \u001b[39m\"\u001b[39m\u001b[39m*\u001b[39m\u001b[39m\"\u001b[39m, UTCDateTime(\u001b[39m\"\u001b[39m\u001b[39m2014-04-03T00:18:09.250000Z\u001b[39m\u001b[39m\"\u001b[39m), t2),\n\u001b[0;32m     11\u001b[0m         (\u001b[39m\"\u001b[39m\u001b[39mIM\u001b[39m\u001b[39m\"\u001b[39m, \u001b[39m\"\u001b[39m\u001b[39mI52H1\u001b[39m\u001b[39m\"\u001b[39m, \u001b[39m\"\u001b[39m\u001b[39m*\u001b[39m\u001b[39m\"\u001b[39m, \u001b[39m\"\u001b[39m\u001b[39m*\u001b[39m\u001b[39m\"\u001b[39m, UTCDateTime(\u001b[39m\"\u001b[39m\u001b[39m2014-04-03T00:29:17.550000Z\u001b[39m\u001b[39m\"\u001b[39m), t2)]\n\u001b[0;32m     14\u001b[0m \u001b[39m# Retrieve station information using bulk request\u001b[39;00m\n\u001b[1;32m---> 15\u001b[0m st \u001b[39m=\u001b[39m client\u001b[39m.\u001b[39;49mget_waveforms_bulk(bulk)  \n\u001b[0;32m     17\u001b[0m filename \u001b[39m=\u001b[39m \u001b[39mf\u001b[39m\u001b[39m\"\u001b[39m\u001b[39mtest.sac\u001b[39m\u001b[39m\"\u001b[39m\n\u001b[0;32m     18\u001b[0m st\u001b[39m.\u001b[39mwrite(filename, \u001b[39mformat\u001b[39m\u001b[39m=\u001b[39m\u001b[39m\"\u001b[39m\u001b[39mSAC\u001b[39m\u001b[39m\"\u001b[39m)\n",
      "File \u001b[1;32mc:\\Users\\mhayk\\anaconda3\\envs\\ObsPy\\lib\\site-packages\\obspy\\clients\\fdsn\\client.py:1051\u001b[0m, in \u001b[0;36mClient.get_waveforms_bulk\u001b[1;34m(self, bulk, quality, minimumlength, longestonly, filename, attach_response, **kwargs)\u001b[0m\n\u001b[0;32m   1047\u001b[0m bulk \u001b[39m=\u001b[39m get_bulk_string(bulk, arguments)\n\u001b[0;32m   1049\u001b[0m url \u001b[39m=\u001b[39m \u001b[39mself\u001b[39m\u001b[39m.\u001b[39m_build_url(\u001b[39m\"\u001b[39m\u001b[39mdataselect\u001b[39m\u001b[39m\"\u001b[39m, \u001b[39m\"\u001b[39m\u001b[39mquery\u001b[39m\u001b[39m\"\u001b[39m)\n\u001b[1;32m-> 1051\u001b[0m data_stream \u001b[39m=\u001b[39m \u001b[39mself\u001b[39;49m\u001b[39m.\u001b[39;49m_download(\n\u001b[0;32m   1052\u001b[0m     url, data\u001b[39m=\u001b[39;49mbulk, content_type\u001b[39m=\u001b[39;49m\u001b[39m'\u001b[39;49m\u001b[39mtext/plain\u001b[39;49m\u001b[39m'\u001b[39;49m)\n\u001b[0;32m   1053\u001b[0m data_stream\u001b[39m.\u001b[39mseek(\u001b[39m0\u001b[39m, \u001b[39m0\u001b[39m)\n\u001b[0;32m   1054\u001b[0m \u001b[39mif\u001b[39;00m filename:\n",
      "File \u001b[1;32mc:\\Users\\mhayk\\anaconda3\\envs\\ObsPy\\lib\\site-packages\\obspy\\clients\\fdsn\\client.py:1482\u001b[0m, in \u001b[0;36mClient._download\u001b[1;34m(self, url, return_string, data, use_gzip, content_type)\u001b[0m\n\u001b[0;32m   1480\u001b[0m \u001b[39mif\u001b[39;00m content_type:\n\u001b[0;32m   1481\u001b[0m     headers[\u001b[39m'\u001b[39m\u001b[39mContent-Type\u001b[39m\u001b[39m'\u001b[39m] \u001b[39m=\u001b[39m content_type\n\u001b[1;32m-> 1482\u001b[0m code, data \u001b[39m=\u001b[39m download_url(\n\u001b[0;32m   1483\u001b[0m     url, opener\u001b[39m=\u001b[39;49m\u001b[39mself\u001b[39;49m\u001b[39m.\u001b[39;49m_url_opener, headers\u001b[39m=\u001b[39;49mheaders,\n\u001b[0;32m   1484\u001b[0m     debug\u001b[39m=\u001b[39;49m\u001b[39mself\u001b[39;49m\u001b[39m.\u001b[39;49mdebug, return_string\u001b[39m=\u001b[39;49mreturn_string, data\u001b[39m=\u001b[39;49mdata,\n\u001b[0;32m   1485\u001b[0m     timeout\u001b[39m=\u001b[39;49m\u001b[39mself\u001b[39;49m\u001b[39m.\u001b[39;49mtimeout, use_gzip\u001b[39m=\u001b[39;49muse_gzip)\n\u001b[0;32m   1486\u001b[0m raise_on_error(code, data)\n\u001b[0;32m   1487\u001b[0m \u001b[39mreturn\u001b[39;00m data\n",
      "File \u001b[1;32mc:\\Users\\mhayk\\anaconda3\\envs\\ObsPy\\lib\\site-packages\\obspy\\clients\\fdsn\\client.py:1927\u001b[0m, in \u001b[0;36mdownload_url\u001b[1;34m(url, opener, timeout, headers, debug, return_string, data, use_gzip)\u001b[0m\n\u001b[0;32m   1924\u001b[0m     f \u001b[39m=\u001b[39m url_obj\n\u001b[0;32m   1926\u001b[0m \u001b[39mif\u001b[39;00m return_string \u001b[39mis\u001b[39;00m \u001b[39mFalse\u001b[39;00m:\n\u001b[1;32m-> 1927\u001b[0m     data \u001b[39m=\u001b[39m io\u001b[39m.\u001b[39mBytesIO(f\u001b[39m.\u001b[39;49mread())\n\u001b[0;32m   1928\u001b[0m \u001b[39melse\u001b[39;00m:\n\u001b[0;32m   1929\u001b[0m     data \u001b[39m=\u001b[39m f\u001b[39m.\u001b[39mread()\n",
      "File \u001b[1;32mc:\\Users\\mhayk\\anaconda3\\envs\\ObsPy\\lib\\http\\client.py:459\u001b[0m, in \u001b[0;36mHTTPResponse.read\u001b[1;34m(self, amt)\u001b[0m\n\u001b[0;32m    456\u001b[0m     \u001b[39mreturn\u001b[39;00m \u001b[39mb\u001b[39m\u001b[39m\"\u001b[39m\u001b[39m\"\u001b[39m\n\u001b[0;32m    458\u001b[0m \u001b[39mif\u001b[39;00m \u001b[39mself\u001b[39m\u001b[39m.\u001b[39mchunked:\n\u001b[1;32m--> 459\u001b[0m     \u001b[39mreturn\u001b[39;00m \u001b[39mself\u001b[39;49m\u001b[39m.\u001b[39;49m_read_chunked(amt)\n\u001b[0;32m    461\u001b[0m \u001b[39mif\u001b[39;00m amt \u001b[39mis\u001b[39;00m \u001b[39mnot\u001b[39;00m \u001b[39mNone\u001b[39;00m:\n\u001b[0;32m    462\u001b[0m     \u001b[39mif\u001b[39;00m \u001b[39mself\u001b[39m\u001b[39m.\u001b[39mlength \u001b[39mis\u001b[39;00m \u001b[39mnot\u001b[39;00m \u001b[39mNone\u001b[39;00m \u001b[39mand\u001b[39;00m amt \u001b[39m>\u001b[39m \u001b[39mself\u001b[39m\u001b[39m.\u001b[39mlength:\n\u001b[0;32m    463\u001b[0m         \u001b[39m# clip the read to the \"end of response\"\u001b[39;00m\n",
      "File \u001b[1;32mc:\\Users\\mhayk\\anaconda3\\envs\\ObsPy\\lib\\http\\client.py:591\u001b[0m, in \u001b[0;36mHTTPResponse._read_chunked\u001b[1;34m(self, amt)\u001b[0m\n\u001b[0;32m    588\u001b[0m     \u001b[39mself\u001b[39m\u001b[39m.\u001b[39mchunk_left \u001b[39m=\u001b[39m chunk_left \u001b[39m-\u001b[39m amt\n\u001b[0;32m    589\u001b[0m     \u001b[39mbreak\u001b[39;00m\n\u001b[1;32m--> 591\u001b[0m value\u001b[39m.\u001b[39mappend(\u001b[39mself\u001b[39;49m\u001b[39m.\u001b[39;49m_safe_read(chunk_left))\n\u001b[0;32m    592\u001b[0m \u001b[39mif\u001b[39;00m amt \u001b[39mis\u001b[39;00m \u001b[39mnot\u001b[39;00m \u001b[39mNone\u001b[39;00m:\n\u001b[0;32m    593\u001b[0m     amt \u001b[39m-\u001b[39m\u001b[39m=\u001b[39m chunk_left\n",
      "File \u001b[1;32mc:\\Users\\mhayk\\anaconda3\\envs\\ObsPy\\lib\\http\\client.py:630\u001b[0m, in \u001b[0;36mHTTPResponse._safe_read\u001b[1;34m(self, amt)\u001b[0m\n\u001b[0;32m    623\u001b[0m \u001b[39mdef\u001b[39;00m \u001b[39m_safe_read\u001b[39m(\u001b[39mself\u001b[39m, amt):\n\u001b[0;32m    624\u001b[0m \u001b[39m    \u001b[39m\u001b[39m\"\"\"Read the number of bytes requested.\u001b[39;00m\n\u001b[0;32m    625\u001b[0m \n\u001b[0;32m    626\u001b[0m \u001b[39m    This function should be used when <amt> bytes \"should\" be present for\u001b[39;00m\n\u001b[0;32m    627\u001b[0m \u001b[39m    reading. If the bytes are truly not available (due to EOF), then the\u001b[39;00m\n\u001b[0;32m    628\u001b[0m \u001b[39m    IncompleteRead exception can be used to detect the problem.\u001b[39;00m\n\u001b[0;32m    629\u001b[0m \u001b[39m    \"\"\"\u001b[39;00m\n\u001b[1;32m--> 630\u001b[0m     data \u001b[39m=\u001b[39m \u001b[39mself\u001b[39;49m\u001b[39m.\u001b[39;49mfp\u001b[39m.\u001b[39;49mread(amt)\n\u001b[0;32m    631\u001b[0m     \u001b[39mif\u001b[39;00m \u001b[39mlen\u001b[39m(data) \u001b[39m<\u001b[39m amt:\n\u001b[0;32m    632\u001b[0m         \u001b[39mraise\u001b[39;00m IncompleteRead(data, amt\u001b[39m-\u001b[39m\u001b[39mlen\u001b[39m(data))\n",
      "File \u001b[1;32mc:\\Users\\mhayk\\anaconda3\\envs\\ObsPy\\lib\\socket.py:705\u001b[0m, in \u001b[0;36mSocketIO.readinto\u001b[1;34m(self, b)\u001b[0m\n\u001b[0;32m    703\u001b[0m \u001b[39mwhile\u001b[39;00m \u001b[39mTrue\u001b[39;00m:\n\u001b[0;32m    704\u001b[0m     \u001b[39mtry\u001b[39;00m:\n\u001b[1;32m--> 705\u001b[0m         \u001b[39mreturn\u001b[39;00m \u001b[39mself\u001b[39;49m\u001b[39m.\u001b[39;49m_sock\u001b[39m.\u001b[39;49mrecv_into(b)\n\u001b[0;32m    706\u001b[0m     \u001b[39mexcept\u001b[39;00m timeout:\n\u001b[0;32m    707\u001b[0m         \u001b[39mself\u001b[39m\u001b[39m.\u001b[39m_timeout_occurred \u001b[39m=\u001b[39m \u001b[39mTrue\u001b[39;00m\n",
      "\u001b[1;31mKeyboardInterrupt\u001b[0m: "
     ]
    }
   ],
   "source": [
    "from obspy.clients.fdsn import Client\n",
    "from datetime import datetime\n",
    "from obspy import UTCDateTime\n",
    "\n",
    "client = Client(\"IRIS\")\n",
    "t2 = UTCDateTime(\"2014-04-20 00:00:00\")\n",
    "\n",
    "# Define the stations\n",
    "bulk = [(\"IM\", \"I06H1\", \"*\", \"*\", UTCDateTime(\"2014-04-03T00:18:09.250000Z\"), t2),\n",
    "        (\"IM\", \"I52H1\", \"*\", \"*\", UTCDateTime(\"2014-04-03T00:29:17.550000Z\"), t2)]\n",
    "\n",
    "\n",
    "# Retrieve station information using bulk request\n",
    "st = client.get_waveforms_bulk(bulk)  \n",
    "\n",
    "filename = f\"test.sac\"\n",
    "st.write(filename, format=\"SAC\")\n",
    "print(f\"Data saved to {filename}\")"
   ]
  },
  {
   "cell_type": "code",
   "execution_count": 35,
   "metadata": {},
   "outputs": [
    {
     "name": "stdout",
     "output_type": "stream",
     "text": [
      "1468020.0\n"
     ]
    }
   ],
   "source": [
    "t2 = UTCDateTime(\"2014-04-20 00:00:00\")\n",
    "t3 = UTCDateTime(\"2014-04-03T00:13:00.000000Z\")\n",
    "\n",
    "print(t2-t3)"
   ]
  },
  {
   "cell_type": "code",
   "execution_count": 91,
   "metadata": {},
   "outputs": [
    {
     "ename": "FDSNTimeoutException",
     "evalue": "Timed Out",
     "output_type": "error",
     "traceback": [
      "\u001b[1;31m---------------------------------------------------------------------------\u001b[0m",
      "\u001b[1;31mFDSNTimeoutException\u001b[0m                      Traceback (most recent call last)",
      "Cell \u001b[1;32mIn[91], line 1\u001b[0m\n\u001b[1;32m----> 1\u001b[0m st \u001b[39m=\u001b[39m client\u001b[39m.\u001b[39;49mget_waveforms_bulk(bulk, attach_response\u001b[39m=\u001b[39;49m\u001b[39mTrue\u001b[39;49;00m)\n",
      "File \u001b[1;32mc:\\Users\\mhayk\\anaconda3\\envs\\obspy\\lib\\site-packages\\obspy\\clients\\fdsn\\client.py:1051\u001b[0m, in \u001b[0;36mClient.get_waveforms_bulk\u001b[1;34m(self, bulk, quality, minimumlength, longestonly, filename, attach_response, **kwargs)\u001b[0m\n\u001b[0;32m   1047\u001b[0m bulk \u001b[39m=\u001b[39m get_bulk_string(bulk, arguments)\n\u001b[0;32m   1049\u001b[0m url \u001b[39m=\u001b[39m \u001b[39mself\u001b[39m\u001b[39m.\u001b[39m_build_url(\u001b[39m\"\u001b[39m\u001b[39mdataselect\u001b[39m\u001b[39m\"\u001b[39m, \u001b[39m\"\u001b[39m\u001b[39mquery\u001b[39m\u001b[39m\"\u001b[39m)\n\u001b[1;32m-> 1051\u001b[0m data_stream \u001b[39m=\u001b[39m \u001b[39mself\u001b[39;49m\u001b[39m.\u001b[39;49m_download(\n\u001b[0;32m   1052\u001b[0m     url, data\u001b[39m=\u001b[39;49mbulk, content_type\u001b[39m=\u001b[39;49m\u001b[39m'\u001b[39;49m\u001b[39mtext/plain\u001b[39;49m\u001b[39m'\u001b[39;49m)\n\u001b[0;32m   1053\u001b[0m data_stream\u001b[39m.\u001b[39mseek(\u001b[39m0\u001b[39m, \u001b[39m0\u001b[39m)\n\u001b[0;32m   1054\u001b[0m \u001b[39mif\u001b[39;00m filename:\n",
      "File \u001b[1;32mc:\\Users\\mhayk\\anaconda3\\envs\\obspy\\lib\\site-packages\\obspy\\clients\\fdsn\\client.py:1486\u001b[0m, in \u001b[0;36mClient._download\u001b[1;34m(self, url, return_string, data, use_gzip, content_type)\u001b[0m\n\u001b[0;32m   1481\u001b[0m     headers[\u001b[39m'\u001b[39m\u001b[39mContent-Type\u001b[39m\u001b[39m'\u001b[39m] \u001b[39m=\u001b[39m content_type\n\u001b[0;32m   1482\u001b[0m code, data \u001b[39m=\u001b[39m download_url(\n\u001b[0;32m   1483\u001b[0m     url, opener\u001b[39m=\u001b[39m\u001b[39mself\u001b[39m\u001b[39m.\u001b[39m_url_opener, headers\u001b[39m=\u001b[39mheaders,\n\u001b[0;32m   1484\u001b[0m     debug\u001b[39m=\u001b[39m\u001b[39mself\u001b[39m\u001b[39m.\u001b[39mdebug, return_string\u001b[39m=\u001b[39mreturn_string, data\u001b[39m=\u001b[39mdata,\n\u001b[0;32m   1485\u001b[0m     timeout\u001b[39m=\u001b[39m\u001b[39mself\u001b[39m\u001b[39m.\u001b[39mtimeout, use_gzip\u001b[39m=\u001b[39muse_gzip)\n\u001b[1;32m-> 1486\u001b[0m raise_on_error(code, data)\n\u001b[0;32m   1487\u001b[0m \u001b[39mreturn\u001b[39;00m data\n",
      "File \u001b[1;32mc:\\Users\\mhayk\\anaconda3\\envs\\obspy\\lib\\site-packages\\obspy\\clients\\fdsn\\client.py:1854\u001b[0m, in \u001b[0;36mraise_on_error\u001b[1;34m(code, data)\u001b[0m\n\u001b[0;32m   1852\u001b[0m \u001b[39melif\u001b[39;00m code \u001b[39mis\u001b[39;00m \u001b[39mNone\u001b[39;00m:\n\u001b[0;32m   1853\u001b[0m     \u001b[39mif\u001b[39;00m \u001b[39m\"\u001b[39m\u001b[39mtimeout\u001b[39m\u001b[39m\"\u001b[39m \u001b[39min\u001b[39;00m \u001b[39mstr\u001b[39m(data)\u001b[39m.\u001b[39mlower() \u001b[39mor\u001b[39;00m \u001b[39m\"\u001b[39m\u001b[39mtimed out\u001b[39m\u001b[39m\"\u001b[39m \u001b[39min\u001b[39;00m \u001b[39mstr\u001b[39m(data)\u001b[39m.\u001b[39mlower():\n\u001b[1;32m-> 1854\u001b[0m         \u001b[39mraise\u001b[39;00m FDSNTimeoutException(\u001b[39m\"\u001b[39m\u001b[39mTimed Out\u001b[39m\u001b[39m\"\u001b[39m)\n\u001b[0;32m   1855\u001b[0m     \u001b[39melse\u001b[39;00m:\n\u001b[0;32m   1856\u001b[0m         \u001b[39mraise\u001b[39;00m FDSNException(\u001b[39m\"\u001b[39m\u001b[39mUnknown Error (\u001b[39m\u001b[39m%s\u001b[39;00m\u001b[39m): \u001b[39m\u001b[39m%s\u001b[39;00m\u001b[39m\"\u001b[39m \u001b[39m%\u001b[39m (\n\u001b[0;32m   1857\u001b[0m             (\u001b[39mstr\u001b[39m(data\u001b[39m.\u001b[39m\u001b[39m__class__\u001b[39m\u001b[39m.\u001b[39m\u001b[39m__name__\u001b[39m), \u001b[39mstr\u001b[39m(data))))\n",
      "\u001b[1;31mFDSNTimeoutException\u001b[0m: Timed Out"
     ]
    }
   ],
   "source": [
    "st = client.get_waveforms_bulk(bulk, attach_response=True)"
   ]
  }
 ],
 "metadata": {
  "kernelspec": {
   "display_name": "obspy",
   "language": "python",
   "name": "python3"
  },
  "language_info": {
   "codemirror_mode": {
    "name": "ipython",
    "version": 3
   },
   "file_extension": ".py",
   "mimetype": "text/x-python",
   "name": "python",
   "nbconvert_exporter": "python",
   "pygments_lexer": "ipython3",
   "version": "3.10.9"
  },
  "orig_nbformat": 4,
  "vscode": {
   "interpreter": {
    "hash": "2ed7121f8e05cb375a9af278360d234537607257a33b44e7895da3621bec8e52"
   }
  }
 },
 "nbformat": 4,
 "nbformat_minor": 2
}
