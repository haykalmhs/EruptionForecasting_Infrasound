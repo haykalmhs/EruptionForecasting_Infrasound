{
 "cells": [
  {
   "attachments": {},
   "cell_type": "markdown",
   "metadata": {},
   "source": [
    "### Data Ingestion\n",
    "\n",
    "We will gather Infrasound signals from Mount Merapi through from I06AU, I04AU, I52GB, I07AU, I39PW International Monitoring System (IMS) Infrasound Arrays through IRIS Data Services. The starttime and enddtime can be seen in the table below:"
   ]
  },
  {
   "cell_type": "code",
   "execution_count": 1,
   "metadata": {},
   "outputs": [],
   "source": [
    "%matplotlib inline\n",
    "import matplotlib.pyplot as plt\n",
    "import pandas as pd\n",
    "import geopandas as gpd\n",
    "import pytz\n",
    "import datetime\n",
    "\n",
    "from obspy import UTCDateTime\n",
    "from obspy.clients.fdsn import Client\n",
    "from datetime import datetime\n",
    "from obspy.clients.earthworm import Client\n",
    "\n",
    "\n",
    "plt.style.use('ggplot')\n",
    "plt.rcParams['figure.figsize'] = 12, 8"
   ]
  },
  {
   "cell_type": "code",
   "execution_count": 2,
   "metadata": {},
   "outputs": [
    {
     "name": "stdout",
     "output_type": "stream",
     "text": [
      "<class 'pandas.core.frame.DataFrame'>\n"
     ]
    },
    {
     "data": {
      "text/html": [
       "<div>\n",
       "<style scoped>\n",
       "    .dataframe tbody tr th:only-of-type {\n",
       "        vertical-align: middle;\n",
       "    }\n",
       "\n",
       "    .dataframe tbody tr th {\n",
       "        vertical-align: top;\n",
       "    }\n",
       "\n",
       "    .dataframe thead th {\n",
       "        text-align: right;\n",
       "    }\n",
       "</style>\n",
       "<table border=\"1\" class=\"dataframe\">\n",
       "  <thead>\n",
       "    <tr style=\"text-align: right;\">\n",
       "      <th></th>\n",
       "      <th>VolcanoNumber</th>\n",
       "      <th>VolcanoName</th>\n",
       "      <th>ExplosivityIndexMax</th>\n",
       "      <th>StartDate</th>\n",
       "      <th>StartDateYear</th>\n",
       "      <th>StartDateMonth</th>\n",
       "      <th>StartDateDay</th>\n",
       "      <th>EndDate</th>\n",
       "      <th>EndDateYear</th>\n",
       "      <th>EndDateMonth</th>\n",
       "      <th>EndDateDay</th>\n",
       "      <th>ContinuingEruption</th>\n",
       "    </tr>\n",
       "    <tr>\n",
       "      <th>Activity_ID</th>\n",
       "      <th></th>\n",
       "      <th></th>\n",
       "      <th></th>\n",
       "      <th></th>\n",
       "      <th></th>\n",
       "      <th></th>\n",
       "      <th></th>\n",
       "      <th></th>\n",
       "      <th></th>\n",
       "      <th></th>\n",
       "      <th></th>\n",
       "      <th></th>\n",
       "    </tr>\n",
       "  </thead>\n",
       "  <tbody>\n",
       "    <tr>\n",
       "      <th>20842</th>\n",
       "      <td>263250</td>\n",
       "      <td>Merapi</td>\n",
       "      <td>3</td>\n",
       "      <td>20131118.0</td>\n",
       "      <td>2013</td>\n",
       "      <td>11.0</td>\n",
       "      <td>18.0</td>\n",
       "      <td>20131118.0</td>\n",
       "      <td>2013.0</td>\n",
       "      <td>11.0</td>\n",
       "      <td>18.0</td>\n",
       "      <td>False</td>\n",
       "    </tr>\n",
       "    <tr>\n",
       "      <th>20892</th>\n",
       "      <td>263250</td>\n",
       "      <td>Merapi</td>\n",
       "      <td>3</td>\n",
       "      <td>20140309.0</td>\n",
       "      <td>2014</td>\n",
       "      <td>3.0</td>\n",
       "      <td>9.0</td>\n",
       "      <td>20140420.0</td>\n",
       "      <td>2014.0</td>\n",
       "      <td>4.0</td>\n",
       "      <td>20.0</td>\n",
       "      <td>False</td>\n",
       "    </tr>\n",
       "    <tr>\n",
       "      <th>22488</th>\n",
       "      <td>263250</td>\n",
       "      <td>Merapi</td>\n",
       "      <td>1</td>\n",
       "      <td>20110325.0</td>\n",
       "      <td>2011</td>\n",
       "      <td>3.0</td>\n",
       "      <td>25.0</td>\n",
       "      <td>20110908.0</td>\n",
       "      <td>2011.0</td>\n",
       "      <td>9.0</td>\n",
       "      <td>8.0</td>\n",
       "      <td>False</td>\n",
       "    </tr>\n",
       "    <tr>\n",
       "      <th>15913</th>\n",
       "      <td>263250</td>\n",
       "      <td>Merapi</td>\n",
       "      <td>3</td>\n",
       "      <td>19610411.0</td>\n",
       "      <td>1961</td>\n",
       "      <td>4.0</td>\n",
       "      <td>11.0</td>\n",
       "      <td>19611128.0</td>\n",
       "      <td>1961.0</td>\n",
       "      <td>11.0</td>\n",
       "      <td>28.0</td>\n",
       "      <td>False</td>\n",
       "    </tr>\n",
       "    <tr>\n",
       "      <th>15914</th>\n",
       "      <td>263250</td>\n",
       "      <td>Merapi</td>\n",
       "      <td>2</td>\n",
       "      <td>19670112.0</td>\n",
       "      <td>1967</td>\n",
       "      <td>1.0</td>\n",
       "      <td>12.0</td>\n",
       "      <td>19700702.0</td>\n",
       "      <td>1970.0</td>\n",
       "      <td>7.0</td>\n",
       "      <td>2.0</td>\n",
       "      <td>False</td>\n",
       "    </tr>\n",
       "  </tbody>\n",
       "</table>\n",
       "</div>"
      ],
      "text/plain": [
       "             VolcanoNumber VolcanoName  ExplosivityIndexMax   StartDate  \\\n",
       "Activity_ID                                                               \n",
       "20842               263250      Merapi                    3  20131118.0   \n",
       "20892               263250      Merapi                    3  20140309.0   \n",
       "22488               263250      Merapi                    1  20110325.0   \n",
       "15913               263250      Merapi                    3  19610411.0   \n",
       "15914               263250      Merapi                    2  19670112.0   \n",
       "\n",
       "             StartDateYear  StartDateMonth  StartDateDay     EndDate  \\\n",
       "Activity_ID                                                            \n",
       "20842                 2013            11.0          18.0  20131118.0   \n",
       "20892                 2014             3.0           9.0  20140420.0   \n",
       "22488                 2011             3.0          25.0  20110908.0   \n",
       "15913                 1961             4.0          11.0  19611128.0   \n",
       "15914                 1967             1.0          12.0  19700702.0   \n",
       "\n",
       "             EndDateYear  EndDateMonth  EndDateDay  ContinuingEruption  \n",
       "Activity_ID                                                             \n",
       "20842             2013.0          11.0        18.0               False  \n",
       "20892             2014.0           4.0        20.0               False  \n",
       "22488             2011.0           9.0         8.0               False  \n",
       "15913             1961.0          11.0        28.0               False  \n",
       "15914             1970.0           7.0         2.0               False  "
      ]
     },
     "execution_count": 2,
     "metadata": {},
     "output_type": "execute_result"
    }
   ],
   "source": [
    "# Load csv results from server into a Pandas DataFrame\n",
    "server = 'https://webservices.volcano.si.edu/geoserver/GVP-VOTW/wms?'\n",
    "query = 'service=WFS&version=2.0.0&request=GetFeature&typeName=GVP-VOTW:E3WebApp_Eruptions1960&outputFormat=csv'\n",
    "df = pd.read_csv(server+query)\n",
    "\n",
    "# drop function which is used in removing or deleting rows or columns from the CSV files\n",
    "df = df.set_index('Activity_ID')\n",
    "df = df.drop(columns=['FID', 'LatitudeDecimal', 'LongitudeDecimal', 'GeoLocation'])\n",
    "\n",
    "# Query a column for a value of interest\n",
    "df = df.query('VolcanoNumber == 263250')\n",
    "\n",
    "print(type(df))\n",
    "df.head()"
   ]
  },
  {
   "cell_type": "code",
   "execution_count": 3,
   "metadata": {},
   "outputs": [
    {
     "name": "stdout",
     "output_type": "stream",
     "text": [
      "2018-05-11 00:00:00 2020-06-21 00:00:00\n"
     ]
    }
   ],
   "source": [
    "# Define a function to convert start and end dates to UTC datetime format\n",
    "def convert_to_utc(date_str):\n",
    "    year = int(date_str[0:4])\n",
    "    month = int(date_str[4:6])\n",
    "    day = int(date_str[6:8])\n",
    "    date = datetime(year, month, day)\n",
    "    return date.strftime('%Y-%m-%d %H:%M:%S')\n",
    "\n",
    "# Example usage for the first row in the dataset\n",
    "start_date = '20180511.0'\n",
    "end_date = '20200621.0'\n",
    "start_date_utc = convert_to_utc(start_date)\n",
    "end_date_utc = convert_to_utc(end_date)\n",
    "print(start_date_utc, end_date_utc)"
   ]
  },
  {
   "cell_type": "code",
   "execution_count": 14,
   "metadata": {},
   "outputs": [],
   "source": [
    "# Define a function to convert start and end dates to UTC datetime format\n",
    "def convert_to_utc(date_float):\n",
    "    date_str = str(int(date_float))\n",
    "    year = int(date_str[0:4])\n",
    "    month = int(date_str[4:6])\n",
    "    day = int(date_str[6:8])\n",
    "    date = datetime(year, month, day)\n",
    "    return date.strftime('%Y-%m-%d %H:%M:%S')\n",
    "\n",
    "# Apply the function to the StartDate and EndDate columns in the DataFrame\n",
    "df['StartDate'] = df['StartDate'].apply(convert_to_utc)\n",
    "df['EndDate'] = df['EndDate'].apply(convert_to_utc)"
   ]
  },
  {
   "cell_type": "code",
   "execution_count": 15,
   "metadata": {},
   "outputs": [
    {
     "ename": "OSError",
     "evalue": "Cannot save file into a non-existent directory: 'data'",
     "output_type": "error",
     "traceback": [
      "\u001b[0;31m---------------------------------------------------------------------------\u001b[0m",
      "\u001b[0;31mOSError\u001b[0m                                   Traceback (most recent call last)",
      "Cell \u001b[0;32mIn[15], line 1\u001b[0m\n\u001b[0;32m----> 1\u001b[0m df\u001b[39m.\u001b[39;49mto_csv(\u001b[39m'\u001b[39;49m\u001b[39mdata/eruption_dates.csv\u001b[39;49m\u001b[39m'\u001b[39;49m)\n",
      "File \u001b[0;32m~/.conda/envs/obspy/lib/python3.10/site-packages/pandas/util/_decorators.py:211\u001b[0m, in \u001b[0;36mdeprecate_kwarg.<locals>._deprecate_kwarg.<locals>.wrapper\u001b[0;34m(*args, **kwargs)\u001b[0m\n\u001b[1;32m    209\u001b[0m     \u001b[39melse\u001b[39;00m:\n\u001b[1;32m    210\u001b[0m         kwargs[new_arg_name] \u001b[39m=\u001b[39m new_arg_value\n\u001b[0;32m--> 211\u001b[0m \u001b[39mreturn\u001b[39;00m func(\u001b[39m*\u001b[39;49margs, \u001b[39m*\u001b[39;49m\u001b[39m*\u001b[39;49mkwargs)\n",
      "File \u001b[0;32m~/.conda/envs/obspy/lib/python3.10/site-packages/pandas/core/generic.py:3720\u001b[0m, in \u001b[0;36mNDFrame.to_csv\u001b[0;34m(self, path_or_buf, sep, na_rep, float_format, columns, header, index, index_label, mode, encoding, compression, quoting, quotechar, lineterminator, chunksize, date_format, doublequote, escapechar, decimal, errors, storage_options)\u001b[0m\n\u001b[1;32m   3709\u001b[0m df \u001b[39m=\u001b[39m \u001b[39mself\u001b[39m \u001b[39mif\u001b[39;00m \u001b[39misinstance\u001b[39m(\u001b[39mself\u001b[39m, ABCDataFrame) \u001b[39melse\u001b[39;00m \u001b[39mself\u001b[39m\u001b[39m.\u001b[39mto_frame()\n\u001b[1;32m   3711\u001b[0m formatter \u001b[39m=\u001b[39m DataFrameFormatter(\n\u001b[1;32m   3712\u001b[0m     frame\u001b[39m=\u001b[39mdf,\n\u001b[1;32m   3713\u001b[0m     header\u001b[39m=\u001b[39mheader,\n\u001b[0;32m   (...)\u001b[0m\n\u001b[1;32m   3717\u001b[0m     decimal\u001b[39m=\u001b[39mdecimal,\n\u001b[1;32m   3718\u001b[0m )\n\u001b[0;32m-> 3720\u001b[0m \u001b[39mreturn\u001b[39;00m DataFrameRenderer(formatter)\u001b[39m.\u001b[39;49mto_csv(\n\u001b[1;32m   3721\u001b[0m     path_or_buf,\n\u001b[1;32m   3722\u001b[0m     lineterminator\u001b[39m=\u001b[39;49mlineterminator,\n\u001b[1;32m   3723\u001b[0m     sep\u001b[39m=\u001b[39;49msep,\n\u001b[1;32m   3724\u001b[0m     encoding\u001b[39m=\u001b[39;49mencoding,\n\u001b[1;32m   3725\u001b[0m     errors\u001b[39m=\u001b[39;49merrors,\n\u001b[1;32m   3726\u001b[0m     compression\u001b[39m=\u001b[39;49mcompression,\n\u001b[1;32m   3727\u001b[0m     quoting\u001b[39m=\u001b[39;49mquoting,\n\u001b[1;32m   3728\u001b[0m     columns\u001b[39m=\u001b[39;49mcolumns,\n\u001b[1;32m   3729\u001b[0m     index_label\u001b[39m=\u001b[39;49mindex_label,\n\u001b[1;32m   3730\u001b[0m     mode\u001b[39m=\u001b[39;49mmode,\n\u001b[1;32m   3731\u001b[0m     chunksize\u001b[39m=\u001b[39;49mchunksize,\n\u001b[1;32m   3732\u001b[0m     quotechar\u001b[39m=\u001b[39;49mquotechar,\n\u001b[1;32m   3733\u001b[0m     date_format\u001b[39m=\u001b[39;49mdate_format,\n\u001b[1;32m   3734\u001b[0m     doublequote\u001b[39m=\u001b[39;49mdoublequote,\n\u001b[1;32m   3735\u001b[0m     escapechar\u001b[39m=\u001b[39;49mescapechar,\n\u001b[1;32m   3736\u001b[0m     storage_options\u001b[39m=\u001b[39;49mstorage_options,\n\u001b[1;32m   3737\u001b[0m )\n",
      "File \u001b[0;32m~/.conda/envs/obspy/lib/python3.10/site-packages/pandas/util/_decorators.py:211\u001b[0m, in \u001b[0;36mdeprecate_kwarg.<locals>._deprecate_kwarg.<locals>.wrapper\u001b[0;34m(*args, **kwargs)\u001b[0m\n\u001b[1;32m    209\u001b[0m     \u001b[39melse\u001b[39;00m:\n\u001b[1;32m    210\u001b[0m         kwargs[new_arg_name] \u001b[39m=\u001b[39m new_arg_value\n\u001b[0;32m--> 211\u001b[0m \u001b[39mreturn\u001b[39;00m func(\u001b[39m*\u001b[39;49margs, \u001b[39m*\u001b[39;49m\u001b[39m*\u001b[39;49mkwargs)\n",
      "File \u001b[0;32m~/.conda/envs/obspy/lib/python3.10/site-packages/pandas/io/formats/format.py:1189\u001b[0m, in \u001b[0;36mDataFrameRenderer.to_csv\u001b[0;34m(self, path_or_buf, encoding, sep, columns, index_label, mode, compression, quoting, quotechar, lineterminator, chunksize, date_format, doublequote, escapechar, errors, storage_options)\u001b[0m\n\u001b[1;32m   1168\u001b[0m     created_buffer \u001b[39m=\u001b[39m \u001b[39mFalse\u001b[39;00m\n\u001b[1;32m   1170\u001b[0m csv_formatter \u001b[39m=\u001b[39m CSVFormatter(\n\u001b[1;32m   1171\u001b[0m     path_or_buf\u001b[39m=\u001b[39mpath_or_buf,\n\u001b[1;32m   1172\u001b[0m     lineterminator\u001b[39m=\u001b[39mlineterminator,\n\u001b[0;32m   (...)\u001b[0m\n\u001b[1;32m   1187\u001b[0m     formatter\u001b[39m=\u001b[39m\u001b[39mself\u001b[39m\u001b[39m.\u001b[39mfmt,\n\u001b[1;32m   1188\u001b[0m )\n\u001b[0;32m-> 1189\u001b[0m csv_formatter\u001b[39m.\u001b[39;49msave()\n\u001b[1;32m   1191\u001b[0m \u001b[39mif\u001b[39;00m created_buffer:\n\u001b[1;32m   1192\u001b[0m     \u001b[39massert\u001b[39;00m \u001b[39misinstance\u001b[39m(path_or_buf, StringIO)\n",
      "File \u001b[0;32m~/.conda/envs/obspy/lib/python3.10/site-packages/pandas/io/formats/csvs.py:241\u001b[0m, in \u001b[0;36mCSVFormatter.save\u001b[0;34m(self)\u001b[0m\n\u001b[1;32m    237\u001b[0m \u001b[39m\u001b[39m\u001b[39m\"\"\"\u001b[39;00m\n\u001b[1;32m    238\u001b[0m \u001b[39mCreate the writer & save.\u001b[39;00m\n\u001b[1;32m    239\u001b[0m \u001b[39m\"\"\"\u001b[39;00m\n\u001b[1;32m    240\u001b[0m \u001b[39m# apply compression and byte/text conversion\u001b[39;00m\n\u001b[0;32m--> 241\u001b[0m \u001b[39mwith\u001b[39;00m get_handle(\n\u001b[1;32m    242\u001b[0m     \u001b[39mself\u001b[39;49m\u001b[39m.\u001b[39;49mfilepath_or_buffer,\n\u001b[1;32m    243\u001b[0m     \u001b[39mself\u001b[39;49m\u001b[39m.\u001b[39;49mmode,\n\u001b[1;32m    244\u001b[0m     encoding\u001b[39m=\u001b[39;49m\u001b[39mself\u001b[39;49m\u001b[39m.\u001b[39;49mencoding,\n\u001b[1;32m    245\u001b[0m     errors\u001b[39m=\u001b[39;49m\u001b[39mself\u001b[39;49m\u001b[39m.\u001b[39;49merrors,\n\u001b[1;32m    246\u001b[0m     compression\u001b[39m=\u001b[39;49m\u001b[39mself\u001b[39;49m\u001b[39m.\u001b[39;49mcompression,\n\u001b[1;32m    247\u001b[0m     storage_options\u001b[39m=\u001b[39;49m\u001b[39mself\u001b[39;49m\u001b[39m.\u001b[39;49mstorage_options,\n\u001b[1;32m    248\u001b[0m ) \u001b[39mas\u001b[39;00m handles:\n\u001b[1;32m    249\u001b[0m \n\u001b[1;32m    250\u001b[0m     \u001b[39m# Note: self.encoding is irrelevant here\u001b[39;00m\n\u001b[1;32m    251\u001b[0m     \u001b[39mself\u001b[39m\u001b[39m.\u001b[39mwriter \u001b[39m=\u001b[39m csvlib\u001b[39m.\u001b[39mwriter(\n\u001b[1;32m    252\u001b[0m         handles\u001b[39m.\u001b[39mhandle,\n\u001b[1;32m    253\u001b[0m         lineterminator\u001b[39m=\u001b[39m\u001b[39mself\u001b[39m\u001b[39m.\u001b[39mlineterminator,\n\u001b[0;32m   (...)\u001b[0m\n\u001b[1;32m    258\u001b[0m         quotechar\u001b[39m=\u001b[39m\u001b[39mself\u001b[39m\u001b[39m.\u001b[39mquotechar,\n\u001b[1;32m    259\u001b[0m     )\n\u001b[1;32m    261\u001b[0m     \u001b[39mself\u001b[39m\u001b[39m.\u001b[39m_save()\n",
      "File \u001b[0;32m~/.conda/envs/obspy/lib/python3.10/site-packages/pandas/io/common.py:734\u001b[0m, in \u001b[0;36mget_handle\u001b[0;34m(path_or_buf, mode, encoding, compression, memory_map, is_text, errors, storage_options)\u001b[0m\n\u001b[1;32m    732\u001b[0m \u001b[39m# Only for write methods\u001b[39;00m\n\u001b[1;32m    733\u001b[0m \u001b[39mif\u001b[39;00m \u001b[39m\"\u001b[39m\u001b[39mr\u001b[39m\u001b[39m\"\u001b[39m \u001b[39mnot\u001b[39;00m \u001b[39min\u001b[39;00m mode \u001b[39mand\u001b[39;00m is_path:\n\u001b[0;32m--> 734\u001b[0m     check_parent_directory(\u001b[39mstr\u001b[39;49m(handle))\n\u001b[1;32m    736\u001b[0m \u001b[39mif\u001b[39;00m compression:\n\u001b[1;32m    737\u001b[0m     \u001b[39mif\u001b[39;00m compression \u001b[39m!=\u001b[39m \u001b[39m\"\u001b[39m\u001b[39mzstd\u001b[39m\u001b[39m\"\u001b[39m:\n\u001b[1;32m    738\u001b[0m         \u001b[39m# compression libraries do not like an explicit text-mode\u001b[39;00m\n",
      "File \u001b[0;32m~/.conda/envs/obspy/lib/python3.10/site-packages/pandas/io/common.py:597\u001b[0m, in \u001b[0;36mcheck_parent_directory\u001b[0;34m(path)\u001b[0m\n\u001b[1;32m    595\u001b[0m parent \u001b[39m=\u001b[39m Path(path)\u001b[39m.\u001b[39mparent\n\u001b[1;32m    596\u001b[0m \u001b[39mif\u001b[39;00m \u001b[39mnot\u001b[39;00m parent\u001b[39m.\u001b[39mis_dir():\n\u001b[0;32m--> 597\u001b[0m     \u001b[39mraise\u001b[39;00m \u001b[39mOSError\u001b[39;00m(\u001b[39mrf\u001b[39m\u001b[39m\"\u001b[39m\u001b[39mCannot save file into a non-existent directory: \u001b[39m\u001b[39m'\u001b[39m\u001b[39m{\u001b[39;00mparent\u001b[39m}\u001b[39;00m\u001b[39m'\u001b[39m\u001b[39m\"\u001b[39m)\n",
      "\u001b[0;31mOSError\u001b[0m: Cannot save file into a non-existent directory: 'data'"
     ]
    }
   ],
   "source": [
    "df.to_csv('data/eruption_dates.csv')"
   ]
  },
  {
   "cell_type": "code",
   "execution_count": null,
   "metadata": {},
   "outputs": [],
   "source": [
    "eruption_dates = pd.read_csv(\"data/eruption_dates.csv\")"
   ]
  },
  {
   "cell_type": "code",
   "execution_count": null,
   "metadata": {},
   "outputs": [
    {
     "name": "stdout",
     "output_type": "stream",
     "text": [
      "Availability data saved to availability.csv\n"
     ]
    }
   ],
   "source": [
    "import requests\n",
    "import pandas as pd\n",
    "import io\n",
    "\n",
    "# Set the URL for the availability query\n",
    "url = \"http://service.iris.edu/fdsnws/availability/1/extent\"\n",
    "\n",
    "# Set the query parameters\n",
    "params = {\n",
    "    \"includerestricted\": \"true\",\n",
    "    \"nodata\": \"404\",\n",
    "    \"network\": \"IM\",\n",
    "    \"starttime\": \"2011-10-31T00:00:00\",\n",
    "    \"endtime\": \"2599-12-31T23:59:59\",\n",
    "}\n",
    "\n",
    "# Send the availability query and get the response\n",
    "response = requests.get(url, params=params)\n",
    "\n",
    "# Convert the response content to a string and read it into a pandas DataFrame\n",
    "csv_str = response.content.decode(\"utf-8\")\n",
    "availability_df = pd.read_csv(io.StringIO(csv_str), delimiter=\"\\s+\")\n",
    "\n",
    "# Save the availability DataFrame to a CSV file\n",
    "availability_df.to_csv(\"data_availability.csv\", index=False)\n",
    "\n",
    "# Print a confirmation message\n",
    "print(\"Availability data saved to availability.csv\")\n"
   ]
  },
  {
   "cell_type": "code",
   "execution_count": null,
   "metadata": {},
   "outputs": [
    {
     "name": "stdout",
     "output_type": "stream",
     "text": [
      "Adjusting end time for I06H1 from 2020-06-21T00:00:00.000000Z to 2019-09-02T09:02:59.950000Z\n"
     ]
    },
    {
     "ename": "FDSNNoDataException",
     "evalue": "No data available for request.\nHTTP Status code: 204\nDetailed response of server:\n\n",
     "output_type": "error",
     "traceback": [
      "\u001b[1;31m---------------------------------------------------------------------------\u001b[0m",
      "\u001b[1;31mFDSNNoDataException\u001b[0m                       Traceback (most recent call last)",
      "Cell \u001b[1;32mIn[27], line 43\u001b[0m\n\u001b[0;32m     41\u001b[0m \u001b[39m# Use ObsPy to request the data for the specified station and time range\u001b[39;00m\n\u001b[0;32m     42\u001b[0m client \u001b[39m=\u001b[39m Client(\u001b[39m\"\u001b[39m\u001b[39mIRIS\u001b[39m\u001b[39m\"\u001b[39m)\n\u001b[1;32m---> 43\u001b[0m st \u001b[39m=\u001b[39m client\u001b[39m.\u001b[39;49mget_waveforms(\u001b[39m\"\u001b[39;49m\u001b[39mIM\u001b[39;49m\u001b[39m\"\u001b[39;49m, station[:\u001b[39m2\u001b[39;49m], station[\u001b[39m2\u001b[39;49m], \u001b[39m\"\u001b[39;49m\u001b[39m*\u001b[39;49m\u001b[39m\"\u001b[39;49m, start_time, end_time)\n\u001b[0;32m     45\u001b[0m \u001b[39m# Do any necessary processing or analysis on the data here\u001b[39;00m\n\u001b[0;32m     46\u001b[0m \n\u001b[0;32m     47\u001b[0m \u001b[39m# Save the data to file or output to the console\u001b[39;00m\n\u001b[0;32m     48\u001b[0m filename \u001b[39m=\u001b[39m \u001b[39mf\u001b[39m\u001b[39m\"\u001b[39m\u001b[39m{\u001b[39;00meruption[\u001b[39m'\u001b[39m\u001b[39mvolcano\u001b[39m\u001b[39m'\u001b[39m]\u001b[39m}\u001b[39;00m\u001b[39m_eruption_\u001b[39m\u001b[39m{\u001b[39;00meruption[\u001b[39m'\u001b[39m\u001b[39mStartDate\u001b[39m\u001b[39m'\u001b[39m]\u001b[39m}\u001b[39;00m\u001b[39m_\u001b[39m\u001b[39m{\u001b[39;00mstation\u001b[39m}\u001b[39;00m\u001b[39m.sac\u001b[39m\u001b[39m\"\u001b[39m\n",
      "File \u001b[1;32mc:\\Users\\mhayk\\anaconda3\\envs\\obspy\\lib\\site-packages\\obspy\\clients\\fdsn\\client.py:872\u001b[0m, in \u001b[0;36mClient.get_waveforms\u001b[1;34m(self, network, station, location, channel, starttime, endtime, quality, minimumlength, longestonly, filename, attach_response, **kwargs)\u001b[0m\n\u001b[0;32m    867\u001b[0m url \u001b[39m=\u001b[39m \u001b[39mself\u001b[39m\u001b[39m.\u001b[39m_create_url_from_parameters(\n\u001b[0;32m    868\u001b[0m     \u001b[39m\"\u001b[39m\u001b[39mdataselect\u001b[39m\u001b[39m\"\u001b[39m, DEFAULT_PARAMETERS[\u001b[39m'\u001b[39m\u001b[39mdataselect\u001b[39m\u001b[39m'\u001b[39m], kwargs)\n\u001b[0;32m    870\u001b[0m \u001b[39m# Gzip not worth it for MiniSEED and most likely disabled for this\u001b[39;00m\n\u001b[0;32m    871\u001b[0m \u001b[39m# route in any case.\u001b[39;00m\n\u001b[1;32m--> 872\u001b[0m data_stream \u001b[39m=\u001b[39m \u001b[39mself\u001b[39;49m\u001b[39m.\u001b[39;49m_download(url, use_gzip\u001b[39m=\u001b[39;49m\u001b[39mFalse\u001b[39;49;00m)\n\u001b[0;32m    873\u001b[0m data_stream\u001b[39m.\u001b[39mseek(\u001b[39m0\u001b[39m, \u001b[39m0\u001b[39m)\n\u001b[0;32m    874\u001b[0m \u001b[39mif\u001b[39;00m filename:\n",
      "File \u001b[1;32mc:\\Users\\mhayk\\anaconda3\\envs\\obspy\\lib\\site-packages\\obspy\\clients\\fdsn\\client.py:1486\u001b[0m, in \u001b[0;36mClient._download\u001b[1;34m(self, url, return_string, data, use_gzip, content_type)\u001b[0m\n\u001b[0;32m   1481\u001b[0m     headers[\u001b[39m'\u001b[39m\u001b[39mContent-Type\u001b[39m\u001b[39m'\u001b[39m] \u001b[39m=\u001b[39m content_type\n\u001b[0;32m   1482\u001b[0m code, data \u001b[39m=\u001b[39m download_url(\n\u001b[0;32m   1483\u001b[0m     url, opener\u001b[39m=\u001b[39m\u001b[39mself\u001b[39m\u001b[39m.\u001b[39m_url_opener, headers\u001b[39m=\u001b[39mheaders,\n\u001b[0;32m   1484\u001b[0m     debug\u001b[39m=\u001b[39m\u001b[39mself\u001b[39m\u001b[39m.\u001b[39mdebug, return_string\u001b[39m=\u001b[39mreturn_string, data\u001b[39m=\u001b[39mdata,\n\u001b[0;32m   1485\u001b[0m     timeout\u001b[39m=\u001b[39m\u001b[39mself\u001b[39m\u001b[39m.\u001b[39mtimeout, use_gzip\u001b[39m=\u001b[39muse_gzip)\n\u001b[1;32m-> 1486\u001b[0m raise_on_error(code, data)\n\u001b[0;32m   1487\u001b[0m \u001b[39mreturn\u001b[39;00m data\n",
      "File \u001b[1;32mc:\\Users\\mhayk\\anaconda3\\envs\\obspy\\lib\\site-packages\\obspy\\clients\\fdsn\\client.py:1813\u001b[0m, in \u001b[0;36mraise_on_error\u001b[1;34m(code, data)\u001b[0m\n\u001b[0;32m   1811\u001b[0m \u001b[39m# No data.\u001b[39;00m\n\u001b[0;32m   1812\u001b[0m \u001b[39mif\u001b[39;00m code \u001b[39m==\u001b[39m \u001b[39m204\u001b[39m:\n\u001b[1;32m-> 1813\u001b[0m     \u001b[39mraise\u001b[39;00m FDSNNoDataException(\u001b[39m\"\u001b[39m\u001b[39mNo data available for request.\u001b[39m\u001b[39m\"\u001b[39m,\n\u001b[0;32m   1814\u001b[0m                               server_info)\n\u001b[0;32m   1815\u001b[0m \u001b[39melif\u001b[39;00m code \u001b[39m==\u001b[39m \u001b[39m400\u001b[39m:\n\u001b[0;32m   1816\u001b[0m     msg \u001b[39m=\u001b[39m (\u001b[39m\"\u001b[39m\u001b[39mBad request. If you think your request was valid \u001b[39m\u001b[39m\"\u001b[39m\n\u001b[0;32m   1817\u001b[0m            \u001b[39m\"\u001b[39m\u001b[39mplease contact the developers.\u001b[39m\u001b[39m\"\u001b[39m)\n",
      "\u001b[1;31mFDSNNoDataException\u001b[0m: No data available for request.\nHTTP Status code: 204\nDetailed response of server:\n\n"
     ]
    }
   ],
   "source": [
    "from obspy.clients.fdsn import Client\n",
    "from obspy import UTCDateTime\n",
    "import pandas as pd\n",
    "\n",
    "# Define the stations\n",
    "stations = [\"I06H1\", \"I04H1\", \"I52H1\", \"I07H1\", \"I39H1\"]\n",
    "\n",
    "# Load eruption dates\n",
    "eruption_dates = pd.read_csv(\"data/eruption_dates.csv\")\n",
    "\n",
    "# Load data availability for each station\n",
    "data_availability = pd.read_csv(\"data/data_availability.csv\")\n",
    "\n",
    "# Loop through each eruption date and each station\n",
    "for _, Activity_ID in eruption_dates.iterrows():\n",
    "    for station in stations:\n",
    "        # Define start and end times for the data request\n",
    "        start_time = UTCDateTime(Activity_ID[\"StartDate\"])\n",
    "        end_time = UTCDateTime(Activity_ID[\"EndDate\"])\n",
    "        \n",
    "        # Get the availability for the current station\n",
    "        station_availability = data_availability[data_availability[\"Station\"] == station]\n",
    "        \n",
    "        # Check if data is available for the entire time period of the eruption\n",
    "        if station_availability.empty:\n",
    "            print(f\"No data available for {station} during {eruption_dates['StartDate']} to {eruption_dates['EndDate']}\")\n",
    "            continue\n",
    "        \n",
    "        available_start = UTCDateTime(station_availability[\"Earliest\"].iloc[0])\n",
    "        available_end = UTCDateTime(station_availability[\"Latest\"].iloc[0])\n",
    "        \n",
    "        if available_start > start_time:\n",
    "            # Adjust start time if necessary\n",
    "            print(f\"Adjusting start time for {station} from {start_time} to {available_start}\")\n",
    "            start_time = available_start\n",
    "        if available_end < end_time:\n",
    "            # Adjust end time if necessary\n",
    "            print(f\"Adjusting end time for {station} from {end_time} to {available_end}\")\n",
    "            end_time = available_end\n",
    "        \n",
    "        # Use ObsPy to request the data for the specified station and time range\n",
    "        client = Client(\"IRIS\")\n",
    "        st = client.get_waveforms(\"IM\", station[:2], \"*\", start_time, end_time)\n",
    "        \n",
    "        # Do any necessary processing or analysis on the data here\n",
    "        \n",
    "        # Save the data to file or output to the console\n",
    "        filename = f\"{eruption['volcano']}_eruption_{eruption['StartDate']}_{station}.sac\"\n",
    "        st.write(filename, format=\"SAC\")\n",
    "        print(f\"Data saved to {filename}\")"
   ]
  },
  {
   "cell_type": "code",
   "execution_count": null,
   "metadata": {},
   "outputs": [
    {
     "ename": "AttributeError",
     "evalue": "'Client' object has no attribute 'get_availability'",
     "output_type": "error",
     "traceback": [
      "\u001b[1;31m---------------------------------------------------------------------------\u001b[0m",
      "\u001b[1;31mAttributeError\u001b[0m                            Traceback (most recent call last)",
      "Cell \u001b[1;32mIn[155], line 21\u001b[0m\n\u001b[0;32m     18\u001b[0m end_time \u001b[39m=\u001b[39m UTCDateTime(eruption[\u001b[39m\"\u001b[39m\u001b[39mEndDate\u001b[39m\u001b[39m\"\u001b[39m])\n\u001b[0;32m     20\u001b[0m \u001b[39m# Use ObsPy to request the data availability for the station\u001b[39;00m\n\u001b[1;32m---> 21\u001b[0m availability \u001b[39m=\u001b[39m client\u001b[39m.\u001b[39;49mget_availability(network\u001b[39m=\u001b[39mnetwork, station\u001b[39m=\u001b[39mstation, starttime\u001b[39m=\u001b[39mstart_time, endtime\u001b[39m=\u001b[39mend_time)\n\u001b[0;32m     23\u001b[0m \u001b[39m# Check if data is available for the entire time period of the eruption\u001b[39;00m\n\u001b[0;32m     24\u001b[0m \u001b[39mif\u001b[39;00m \u001b[39mnot\u001b[39;00m availability:\n",
      "\u001b[1;31mAttributeError\u001b[0m: 'Client' object has no attribute 'get_availability'"
     ]
    }
   ],
   "source": [
    "from obspy.clients.fdsn import Client\n",
    "from obspy import UTCDateTime\n",
    "import pandas as pd\n",
    "\n",
    "# Define the client and the stations\n",
    "client = Client(\"IRIS\")\n",
    "network = \"IM\"\n",
    "stations = [\"I06H1\", \"I04H1\", \"I52H1\", \"I07H1\", \"I39H1\"]\n",
    "\n",
    "# Load eruption dates\n",
    "eruption_dates = pd.read_csv(\"data/eruption_dates.csv\")\n",
    "\n",
    "# Loop through each eruption date and each station\n",
    "for _, eruption in eruption_dates.iterrows():\n",
    "    for station in stations:\n",
    "        # Define start and end times for the data request\n",
    "        start_time = UTCDateTime(eruption[\"StartDate\"])\n",
    "        end_time = UTCDateTime(eruption[\"EndDate\"])\n",
    "\n",
    "        # Use ObsPy to request the data availability for the station\n",
    "        availability = client.get_availability(network=network, station=station, starttime=start_time, endtime=end_time)\n",
    "\n",
    "        # Check if data is available for the entire time period of the eruption\n",
    "        if not availability:\n",
    "            print(f\"No data available for {eruption['volcano']} eruption {eruption['StartDate']} to {eruption['EndDate']} at station {station}\")\n",
    "            continue\n",
    "\n",
    "        available_start = UTCDateTime(availability[0][\"start\"])\n",
    "        available_end = UTCDateTime(availability[0][\"end\"])\n",
    "\n",
    "        if available_start > start_time:\n",
    "            # Adjust start time if necessary\n",
    "            print(f\"Adjusting start time for {station} from {start_time} to {available_start}\")\n",
    "            start_time = available_start\n",
    "        if available_end < end_time:\n",
    "            # Adjust end time if necessary\n",
    "            print(f\"Adjusting end time for {station} from {end_time} to {available_end}\")\n",
    "            end_time = available_end\n",
    "\n",
    "        # Use ObsPy to request the data for the specified station and time range\n",
    "        st = client.get_waveforms(network, station, \"*\", \"*\", start_time, end_time)\n",
    "\n",
    "        # Do any necessary processing or analysis on the data here\n",
    "\n",
    "        # Save the data to file or output to the console\n",
    "        filename = f\"{eruption['volcano']}_eruption_{eruption['StartDate']}_{station}.sac\"\n",
    "        st.write(filename, format=\"SAC\")\n",
    "        print(f\"Data saved to {filename}\")\n"
   ]
  },
  {
   "cell_type": "code",
   "execution_count": null,
   "metadata": {},
   "outputs": [
    {
     "ename": "AttributeError",
     "evalue": "'Client' object has no attribute 'get_availability'",
     "output_type": "error",
     "traceback": [
      "\u001b[1;31m---------------------------------------------------------------------------\u001b[0m",
      "\u001b[1;31mAttributeError\u001b[0m                            Traceback (most recent call last)",
      "Cell \u001b[1;32mIn[172], line 11\u001b[0m\n\u001b[0;32m      9\u001b[0m availability_list \u001b[39m=\u001b[39m []\n\u001b[0;32m     10\u001b[0m \u001b[39mfor\u001b[39;00m station \u001b[39min\u001b[39;00m stations:\n\u001b[1;32m---> 11\u001b[0m     availability \u001b[39m=\u001b[39m client\u001b[39m.\u001b[39;49mget_availability(network\u001b[39m=\u001b[39mnetwork, station\u001b[39m=\u001b[39mstation, channel\u001b[39m=\u001b[39m\u001b[39m\"\u001b[39m\u001b[39m*\u001b[39m\u001b[39m\"\u001b[39m, level\u001b[39m=\u001b[39m\u001b[39m\"\u001b[39m\u001b[39mresponse\u001b[39m\u001b[39m\"\u001b[39m)\n\u001b[0;32m     12\u001b[0m     availability_list\u001b[39m.\u001b[39mextend(availability)\n\u001b[0;32m     14\u001b[0m \u001b[39m# Convert availability list to a DataFrame\u001b[39;00m\n",
      "\u001b[1;31mAttributeError\u001b[0m: 'Client' object has no attribute 'get_availability'"
     ]
    }
   ],
   "source": [
    "from obspy.clients.fdsn import Client\n",
    "import pandas as pd\n",
    "\n",
    "client = Client(\"IRIS\")\n",
    "network = \"IM\"\n",
    "stations = [\"I06H*\", \"I04H*\", \"I52H*\", \"I07H*\", \"I39H*\"]\n",
    "\n",
    "# Get availability information for each station\n",
    "availability_list = []\n",
    "for station in stations:\n",
    "    availability = client.get_availability(network=network, station=station, channel=\"*\", level=\"response\")\n",
    "    availability_list.extend(availability)\n",
    "\n",
    "# Convert availability list to a DataFrame\n",
    "availability_df = pd.DataFrame(availability_list)\n",
    "\n",
    "# Save the availability information to a CSV file\n",
    "availability_df.to_csv(\"availability.csv\", index=False)\n"
   ]
  },
  {
   "cell_type": "code",
   "execution_count": null,
   "metadata": {},
   "outputs": [
    {
     "ename": "TypeError",
     "evalue": "Client.get_availability() got an unexpected keyword argument 'starttime'",
     "output_type": "error",
     "traceback": [
      "\u001b[1;31m---------------------------------------------------------------------------\u001b[0m",
      "\u001b[1;31mTypeError\u001b[0m                                 Traceback (most recent call last)",
      "Cell \u001b[1;32mIn[173], line 21\u001b[0m\n\u001b[0;32m     18\u001b[0m client \u001b[39m=\u001b[39m Client(\u001b[39m\"\u001b[39m\u001b[39mrtserve.iris.washington.edu\u001b[39m\u001b[39m\"\u001b[39m, port\u001b[39m=\u001b[39m\u001b[39m18000\u001b[39m, timeout\u001b[39m=\u001b[39m\u001b[39m10\u001b[39m)\n\u001b[0;32m     20\u001b[0m \u001b[39m# Get the earliest and latest data availability for the station\u001b[39;00m\n\u001b[1;32m---> 21\u001b[0m earliest, latest \u001b[39m=\u001b[39m client\u001b[39m.\u001b[39;49mget_availability(network\u001b[39m=\u001b[39;49mnetwork, station\u001b[39m=\u001b[39;49mstation_code, starttime\u001b[39m=\u001b[39;49mstart_time, endtime\u001b[39m=\u001b[39;49mend_time)\n\u001b[0;32m     23\u001b[0m \u001b[39m# Add the station code, earliest availability, and latest availability to the list\u001b[39;00m\n\u001b[0;32m     24\u001b[0m availability\u001b[39m.\u001b[39mappend((station_code, earliest, latest))\n",
      "\u001b[1;31mTypeError\u001b[0m: Client.get_availability() got an unexpected keyword argument 'starttime'"
     ]
    }
   ],
   "source": [
    "from obspy import UTCDateTime\n",
    "from obspy.clients.earthworm import Client\n",
    "\n",
    "# Define the network and station codes to query\n",
    "network = \"IM\"\n",
    "station_codes = [\"I06H\", \"I04H\", \"I52H\", \"I07H\", \"I39H\"]\n",
    "\n",
    "# Define the start and end times of the data availability query\n",
    "start_time = UTCDateTime(\"2000-01-01\")\n",
    "end_time = UTCDateTime(\"2023-03-13\")\n",
    "\n",
    "# Create an empty list to hold the earliest and latest data availability for each station\n",
    "availability = []\n",
    "\n",
    "# Loop over the station codes and get the earliest and latest data availability for each station\n",
    "for station_code in station_codes:\n",
    "    # Create an Earthworm client for the station\n",
    "    client = Client(\"rtserve.iris.washington.edu\", port=18000, timeout=10)\n",
    "    \n",
    "    # Get the earliest and latest data availability for the station\n",
    "    earliest, latest = client.get_availability(network=network, station=station_code, starttime=start_time, endtime=end_time)\n",
    "    \n",
    "    # Add the station code, earliest availability, and latest availability to the list\n",
    "    availability.append((station_code, earliest, latest))\n",
    "\n",
    "# Create a Pandas DataFrame from the availability list and save it to a CSV file\n",
    "df = pd.DataFrame(availability, columns=[\"station\", \"earliest\", \"latest\"])\n",
    "df.to_csv(\"data/availability_summary.csv\", index=False)\n"
   ]
  }
 ],
 "metadata": {
  "interpreter": {
   "hash": "37daadb6b9239b7afb799039a9ef0a2c5dbaea2c6fe4b7e8753a8651e4fdebba"
  },
  "kernelspec": {
   "display_name": "Python 3.10.9 64-bit ('obspy': conda)",
   "name": "python3"
  },
  "language_info": {
   "codemirror_mode": {
    "name": "ipython",
    "version": 3
   },
   "file_extension": ".py",
   "mimetype": "text/x-python",
   "name": "python",
   "nbconvert_exporter": "python",
   "pygments_lexer": "ipython3",
   "version": "3.10.9"
  },
  "orig_nbformat": 4
 },
 "nbformat": 4,
 "nbformat_minor": 2
}
